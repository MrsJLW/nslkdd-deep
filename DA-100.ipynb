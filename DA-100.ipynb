{
 "cells": [
  {
   "cell_type": "code",
   "execution_count": 6,
   "metadata": {
    "collapsed": false
   },
   "outputs": [],
   "source": [
    "import tensorflow as tf\n",
    "import numpy as np\n",
    "from sklearn.preprocessing import LabelBinarizer\n",
    "from sklearn.metrics import mean_squared_error, precision_score\n",
    "from sklearn.linear_model import LogisticRegression\n",
    "from sklearn.cross_validation import cross_val_score\n",
    "from sklearn.preprocessing import StandardScaler\n",
    "from sklearn.metrics import accuracy_score\n",
    "from sklearn.metrics import confusion_matrix"
   ]
  },
  {
   "cell_type": "code",
   "execution_count": 7,
   "metadata": {
    "collapsed": false
   },
   "outputs": [
    {
     "data": {
      "text/plain": [
       "array([ 2.,  2.,  1.,  2.,  2.], dtype=float32)"
      ]
     },
     "execution_count": 7,
     "metadata": {},
     "output_type": "execute_result"
    }
   ],
   "source": [
    "train_dataset = np.genfromtxt('resources/train.csv', dtype=np.float32, delimiter=',')\n",
    "train_targets = train_dataset[:,-1]\n",
    "test_dataset = np.genfromtxt('resources/test.csv', dtype=np.float32, delimiter=',')\n",
    "test_targets = test_dataset[:,-1]\n",
    "combined_dataset=np.concatenate((train_dataset[:,:-1], test_dataset[:,:-1]))\n",
    "train_targets[:5]"
   ]
  },
  {
   "cell_type": "code",
   "execution_count": 8,
   "metadata": {
    "collapsed": false
   },
   "outputs": [
    {
     "name": "stdout",
     "output_type": "stream",
     "text": [
      "122\n"
     ]
    }
   ],
   "source": [
    "numeric_indices = []\n",
    "for i in range(combined_dataset.shape[1]):\n",
    "    n_unique = len(np.unique(combined_dataset[:, i]))\n",
    "    numeric_indices.append(n_unique > 2)\n",
    "print (len(numeric_indices))\n",
    "numeric_indices = np.array(numeric_indices, dtype=np.bool)"
   ]
  },
  {
   "cell_type": "code",
   "execution_count": 9,
   "metadata": {
    "collapsed": false
   },
   "outputs": [],
   "source": [
    "combined_dataset[:, numeric_indices] = StandardScaler().fit_transform(\n",
    "                                        combined_dataset[:, numeric_indices]\n",
    "                                        )"
   ]
  },
  {
   "cell_type": "code",
   "execution_count": 16,
   "metadata": {
    "collapsed": false
   },
   "outputs": [],
   "source": [
    "batch_size = 1500\n",
    "num_feature = 122\n",
    "num_labels = 5\n",
    "graph = tf.Graph()\n",
    "with graph.as_default():\n",
    "\n",
    "    input_data = tf.placeholder(tf.float32, shape=(None, num_feature))\n",
    "    clean_data = tf.placeholder(tf.float32, shape=(None, num_feature))\n",
    "    target = tf.placeholder(tf.float32, shape=(None, 5))\n",
    "    n_hidden_1 = 200\n",
    "#     n_hidden_2 = 100\n",
    "#     n_hidden_3 = 500\n",
    "    n_input = num_feature\n",
    "\n",
    "    wh1 = tf.Variable(tf.truncated_normal([n_input, n_hidden_1], dtype=tf.float32))\n",
    "#     wh2 = tf.Variable(tf.truncated_normal([n_hidden_1, n_hidden_2], dtype=tf.float32))\n",
    "#     wh3 = tf.Variable(tf.truncated_normal([n_hidden_2, n_hidden_3], dtype=tf.float32))\n",
    "#     wo = tf.Variable(tf.zeros([n_hidden_1, n_input], dtype=tf.float32))\n",
    "#     wo.initialized_value = tf.transpose(wh1)\n",
    "    b1 = tf.Variable(tf.truncated_normal([n_hidden_1], dtype=tf.float32))\n",
    "#     b2 = tf.Variable(tf.truncated_normal([n_hidden_2], dtype=tf.float32))\n",
    "#     b3 = tf.Variable(tf.truncated_normal([n_hidden_3], dtype=tf.float32))\n",
    "    bo = tf.Variable(tf.truncated_normal([n_input], dtype=tf.float32))\n",
    "    layer_1 = tf.add(tf.matmul(input_data, wh1), b1)\n",
    "    def compute_logit():\n",
    "#         layer_2 = tf.nn.relu(tf.add(tf.matmul(layer_1, wh2), b2))\n",
    "#         layer_3 = tf.nn.sigmoid(tf.add(tf.matmul(layer_2, wh3), b3))\n",
    "        return tf.matmul(layer_1, tf.transpose(wh1)) + bo \n",
    "\n",
    "    \n",
    "    logits = compute_logit()\n",
    "    difference = tf.sub(clean_data, logits) \n",
    "    loss = tf.sqrt(tf.reduce_mean(tf.square(difference)))# +  0.0001 * (tf.nn.l2_loss(wh1) + tf.nn.l2_loss(wo))\n",
    "#     loss = tf.reduce_mean(tf.nn.softmax_cross_entropy_with_logits(logits,tf_train_dataset))\n",
    "    optimizer = tf.train.AdamOptimizer(0.001).minimize(loss)\n",
    "    train_prediction = compute_logit()\n",
    "    \n",
    "    \n",
    "    layer_1_f = tf.add(tf.matmul(clean_data, wh1), b1)\n",
    "    wy = tf.Variable(tf.truncated_normal([n_hidden_1, num_labels], dtype=tf.float32))\n",
    "    by = tf.Variable(tf.truncated_normal([num_labels], dtype=tf.float32))\n",
    "    y_ = tf.matmul(layer_1_f, wy) + by\n",
    "    loss_ = tf.reduce_mean(tf.nn.softmax_cross_entropy_with_logits(y_, target))\n",
    "    optimize_ = tf.train.AdamOptimizer(0.0001).minimize(loss_)    "
   ]
  },
  {
   "cell_type": "code",
   "execution_count": 20,
   "metadata": {
    "collapsed": false
   },
   "outputs": [
    {
     "name": "stdout",
     "output_type": "stream",
     "text": [
      "Initialized\n",
      "('Minibatch loss at step', 0, ':', 224.05811)\n",
      "('Minibatch loss at step', 500, ':', 89.803459)\n",
      "('Minibatch loss at step', 1000, ':', 40.753292)\n",
      "('Minibatch loss at step', 1500, ':', 16.952778)\n",
      "('Minibatch loss at step', 2000, ':', 32.826317)\n",
      "('Minibatch loss at step', 2500, ':', 3.5724339)\n",
      "('Minibatch loss at step', 3000, ':', 1.6851171)\n",
      "('Minibatch loss at step', 3500, ':', 0.71821159)\n",
      "('Minibatch loss at step', 4000, ':', 0.41565123)\n",
      "('Minibatch loss at step', 4500, ':', 0.38928574)\n",
      "('Minibatch loss at step', 5000, ':', 0.31946072)\n",
      "('Minibatch loss at step', 5500, ':', 0.33549848)\n",
      "('Minibatch loss at step', 6000, ':', 0.36320654)\n",
      "('Minibatch loss at step', 6500, ':', 0.30072826)\n",
      "('Minibatch loss at step', 7000, ':', 0.59318727)\n",
      "('Minibatch loss at step', 7500, ':', 0.30588657)\n",
      "('Minibatch loss at step', 8000, ':', 0.30118093)\n",
      "('Minibatch loss at step', 8500, ':', 0.29264712)\n",
      "('Minibatch loss at step', 9000, ':', 0.30652744)\n",
      "('Minibatch loss at step', 9500, ':', 0.45049831)\n",
      "('Minibatch logloss at step', 0, ':', 1323.7214)\n",
      "('Minibatch logloss at step', 100, ':', 5380.2007)\n",
      "('Minibatch logloss at step', 200, ':', 4965.6953)\n",
      "('Minibatch logloss at step', 300, ':', 654.49597)\n",
      "('Minibatch logloss at step', 400, ':', 677.42761)\n",
      "('Minibatch logloss at step', 500, ':', 221.6963)\n",
      "('Minibatch logloss at step', 600, ':', 538.79303)\n",
      "('Minibatch logloss at step', 700, ':', 158.87959)\n",
      "('Minibatch logloss at step', 800, ':', 178.36411)\n",
      "('Minibatch logloss at step', 900, ':', 1125.1417)\n",
      "('Minibatch logloss at step', 1000, ':', 758.26428)\n",
      "('Minibatch logloss at step', 1100, ':', 4168.1875)\n",
      "('Minibatch logloss at step', 1200, ':', 505.82126)\n",
      "('Minibatch logloss at step', 1300, ':', 2131.2456)\n",
      "('Minibatch logloss at step', 1400, ':', 519.79572)\n",
      "('Minibatch logloss at step', 1500, ':', 948.15503)\n",
      "('Minibatch logloss at step', 1600, ':', 868.96918)\n",
      "('Minibatch logloss at step', 1700, ':', 1489.0167)\n",
      "('Minibatch logloss at step', 1800, ':', 952.95801)\n",
      "('Minibatch logloss at step', 1900, ':', 1063.1851)\n",
      "('Minibatch logloss at step', 2000, ':', 698.88965)\n",
      "('Minibatch logloss at step', 2100, ':', 602.1897)\n",
      "('Minibatch logloss at step', 2200, ':', 1362.41)\n",
      "('Minibatch logloss at step', 2300, ':', 568.50275)\n",
      "('Minibatch logloss at step', 2400, ':', 328.82785)\n",
      "('Minibatch logloss at step', 2500, ':', 1116.1813)\n",
      "('Minibatch logloss at step', 2600, ':', 299.75803)\n",
      "('Minibatch logloss at step', 2700, ':', 1040.5946)\n",
      "('Minibatch logloss at step', 2800, ':', 829.79309)\n",
      "('Minibatch logloss at step', 2900, ':', 393.46597)\n",
      "('Minibatch logloss at step', 3000, ':', 760.93939)\n",
      "('Minibatch logloss at step', 3100, ':', 1506.3287)\n",
      "('Minibatch logloss at step', 3200, ':', 1042.14)\n",
      "('Minibatch logloss at step', 3300, ':', 159.04956)\n",
      "('Minibatch logloss at step', 3400, ':', 930.65375)\n",
      "('Minibatch logloss at step', 3500, ':', 1192.5924)\n",
      "('Minibatch logloss at step', 3600, ':', 1954.2543)\n",
      "('Minibatch logloss at step', 3700, ':', 352.13638)\n",
      "('Minibatch logloss at step', 3800, ':', 57.296726)\n",
      "('Minibatch logloss at step', 3900, ':', 348.9866)\n",
      "('Minibatch logloss at step', 4000, ':', 698.08374)\n",
      "('Minibatch logloss at step', 4100, ':', 1214.2064)\n",
      "('Minibatch logloss at step', 4200, ':', 509.63312)\n",
      "('Minibatch logloss at step', 4300, ':', 214.87131)\n",
      "('Minibatch logloss at step', 4400, ':', 268.19876)\n",
      "('Minibatch logloss at step', 4500, ':', 1006.7327)\n",
      "('Minibatch logloss at step', 4600, ':', 51.968601)\n",
      "('Minibatch logloss at step', 4700, ':', 1281.9312)\n",
      "('Minibatch logloss at step', 4800, ':', 234.56134)\n",
      "('Minibatch logloss at step', 4900, ':', 144.10289)\n",
      "('Minibatch logloss at step', 5000, ':', 130.59839)\n",
      "('Minibatch logloss at step', 5100, ':', 729.26685)\n",
      "('Minibatch logloss at step', 5200, ':', 1600.3961)\n",
      "('Minibatch logloss at step', 5300, ':', 1370.0819)\n",
      "('Minibatch logloss at step', 5400, ':', 1846.8579)\n",
      "('Minibatch logloss at step', 5500, ':', 732.14038)\n",
      "('Minibatch logloss at step', 5600, ':', 1236.7745)\n",
      "('Minibatch logloss at step', 5700, ':', 2150.2522)\n",
      "('Minibatch logloss at step', 5800, ':', 656.88812)\n",
      "('Minibatch logloss at step', 5900, ':', 689.39313)\n",
      "('Minibatch logloss at step', 6000, ':', 682.65314)\n",
      "('Minibatch logloss at step', 6100, ':', 1325.1367)\n",
      "('Minibatch logloss at step', 6200, ':', 535.77631)\n",
      "('Minibatch logloss at step', 6300, ':', 412.47025)\n",
      "('Minibatch logloss at step', 6400, ':', 1076.7737)\n",
      "('Minibatch logloss at step', 6500, ':', 1498.6262)\n",
      "('Minibatch logloss at step', 6600, ':', 289.39413)\n",
      "('Minibatch logloss at step', 6700, ':', 450.59906)\n",
      "('Minibatch logloss at step', 6800, ':', 116.18247)\n",
      "('Minibatch logloss at step', 6900, ':', 5732.9429)\n",
      "('Minibatch logloss at step', 7000, ':', 1468.2255)\n",
      "('Minibatch logloss at step', 7100, ':', 1583.0293)\n",
      "('Minibatch logloss at step', 7200, ':', 597.44983)\n",
      "('Minibatch logloss at step', 7300, ':', 567.22021)\n",
      "('Minibatch logloss at step', 7400, ':', 322.70682)\n",
      "('Minibatch logloss at step', 7500, ':', 3185.5378)\n",
      "('Minibatch logloss at step', 7600, ':', 878.62939)\n",
      "('Minibatch logloss at step', 7700, ':', 369.10324)\n",
      "('Minibatch logloss at step', 7800, ':', 2486.946)\n",
      "('Minibatch logloss at step', 7900, ':', 2597.957)\n",
      "('Minibatch logloss at step', 8000, ':', 3235.7693)\n",
      "('Minibatch logloss at step', 8100, ':', 886.21967)\n",
      "('Minibatch logloss at step', 8200, ':', 1709.1429)\n",
      "('Minibatch logloss at step', 8300, ':', 223.00133)\n",
      "('Minibatch logloss at step', 8400, ':', 103.60345)\n",
      "('Minibatch logloss at step', 8500, ':', 460.73355)\n",
      "('Minibatch logloss at step', 8600, ':', 1301.4978)\n",
      "('Minibatch logloss at step', 8700, ':', 1838.553)\n",
      "('Minibatch logloss at step', 8800, ':', 848.45093)\n",
      "('Minibatch logloss at step', 8900, ':', 447.73438)\n",
      "('Minibatch logloss at step', 9000, ':', 1503.7791)\n",
      "('Minibatch logloss at step', 9100, ':', 334.15527)\n",
      "('Minibatch logloss at step', 9200, ':', 955.95026)\n",
      "('Minibatch logloss at step', 9300, ':', 3778.698)\n",
      "('Minibatch logloss at step', 9400, ':', 91.411728)\n",
      "('Minibatch logloss at step', 9500, ':', 197.95715)\n",
      "('Minibatch logloss at step', 9600, ':', 132.35004)\n",
      "('Minibatch logloss at step', 9700, ':', 570.77655)\n",
      "('Minibatch logloss at step', 9800, ':', 1612.2013)\n",
      "('Minibatch logloss at step', 9900, ':', 966.36823)\n"
     ]
    }
   ],
   "source": [
    "num_steps = 10000\n",
    "preds = []\n",
    "randomized_dataset = combined_dataset.copy()\n",
    "#     np.random.shuffle(randomized_dataset)\n",
    "new_input=[]\n",
    "with tf.Session(graph=graph) as session:\n",
    "    tf.initialize_all_variables().run()\n",
    "    print (\"Initialized\")\n",
    "    for step in range(num_steps):\n",
    "        offset = (step * batch_size) % (randomized_dataset.shape[0] - batch_size)\n",
    "        batch_data = randomized_dataset[offset:(offset + batch_size), :]\n",
    "        noisy_batch_data = batch_data.copy()\n",
    "        for i, point in enumerate(noisy_batch_data):\n",
    "            noisy_batch_data[i, :] = point + np.random.normal(0, 1, noisy_batch_data.shape[1])\n",
    "        feed_dict = {input_data: noisy_batch_data, clean_data: batch_data}\n",
    "        _, l, predictions = session.run(\n",
    "          [optimizer, loss, train_prediction], feed_dict=feed_dict)\n",
    "        if (step % 500 == 0):\n",
    "            print(\"Minibatch loss at step\", step, \":\", l)\n",
    "#             print \"SKLEARN loss\", np.sqrt(mean_squared_error(predictions, batch_data))\n",
    "    new_input=layer_1.eval(feed_dict = {input_data :combined_dataset})\n",
    "\n",
    "    for step in range(10000):\n",
    "        c = np.random.choice(train_targets.shape[0], 2000, replace=False)\n",
    "        batch_data = train_dataset[:,:-1][c]\n",
    "        batch_targets = train_targets[c]\n",
    "        batch_targets=LabelBinarizer().fit([1,2,3,4,5]).transform(batch_targets)\n",
    "        feed_dict = {clean_data:batch_data, target:batch_targets}\n",
    "        l, _ = session.run([loss_, optimize_], feed_dict=feed_dict)\n",
    "        if (step % 100 == 0):\n",
    "            print(\"Minibatch logloss at step\", step, \":\", l)\n",
    "    new_input = layer_1_f.eval(feed_dict={clean_data:combined_dataset})"
   ]
  },
  {
   "cell_type": "code",
   "execution_count": 43,
   "metadata": {
    "collapsed": false
   },
   "outputs": [
    {
     "name": "stdout",
     "output_type": "stream",
     "text": [
      "(125973, 123)\n",
      "(125973, 201) (22544, 201)\n"
     ]
    }
   ],
   "source": [
    "#saving new train & test data \n",
    "from collections import Counter\n",
    "print(train_dataset.shape)\n",
    "new_train_data=new_input[:train_dataset.shape[0]]\n",
    "new_train_data=np.c_[new_train_data,train_targets]\n",
    "new_test_data=new_input[train_dataset.shape[0]:]\n",
    "new_test_data=np.c_[new_test_data, test_targets]\n",
    "print(new_train_data.shape, new_test_data.shape)\n",
    "# np.savez('out/new_input.npz',train=new_train_data, test=new_test_data)"
   ]
  },
  {
   "cell_type": "code",
   "execution_count": 44,
   "metadata": {
    "collapsed": true
   },
   "outputs": [],
   "source": [
    "model = LogisticRegression(C=1,class_weight='balanced',n_jobs=-1)"
   ]
  },
  {
   "cell_type": "code",
   "execution_count": 37,
   "metadata": {
    "collapsed": false
   },
   "outputs": [
    {
     "name": "stdout",
     "output_type": "stream",
     "text": [
      "0.731867870076\n"
     ]
    }
   ],
   "source": [
    "print (cross_val_score(model, new_train_data[:, :-1], train_targets, cv=3, scoring='precision_macro').mean())"
   ]
  },
  {
   "cell_type": "code",
   "execution_count": 45,
   "metadata": {
    "collapsed": true
   },
   "outputs": [],
   "source": [
    "new_train_data = np.load('out/new_input.npz')['train']\n",
    "new_test_data = np.load('out/new_input.npz')['test']"
   ]
  },
  {
   "cell_type": "code",
   "execution_count": 46,
   "metadata": {
    "collapsed": false
   },
   "outputs": [
    {
     "data": {
      "text/plain": [
       "LogisticRegression(C=1, class_weight='balanced', dual=False,\n",
       "          fit_intercept=True, intercept_scaling=1, max_iter=100,\n",
       "          multi_class='ovr', n_jobs=-1, penalty='l2', random_state=None,\n",
       "          solver='liblinear', tol=0.0001, verbose=0, warm_start=False)"
      ]
     },
     "execution_count": 46,
     "metadata": {},
     "output_type": "execute_result"
    }
   ],
   "source": [
    "model.fit(new_train_data[:, :-1], train_targets)"
   ]
  },
  {
   "cell_type": "code",
   "execution_count": 47,
   "metadata": {
    "collapsed": true
   },
   "outputs": [],
   "source": [
    "preds = model.predict(new_test_data[:, :-1])\n",
    "# np.savez('out/preds.npz',preds=preds)"
   ]
  },
  {
   "cell_type": "code",
   "execution_count": 50,
   "metadata": {
    "collapsed": false
   },
   "outputs": [
    {
     "name": "stdout",
     "output_type": "stream",
     "text": [
      "0.742680979418\n"
     ]
    }
   ],
   "source": [
    "print(accuracy_score(preds, test_targets))"
   ]
  },
  {
   "cell_type": "code",
   "execution_count": 51,
   "metadata": {
    "collapsed": false
   },
   "outputs": [
    {
     "name": "stdout",
     "output_type": "stream",
     "text": [
      "[[5561 1848   45    1    3]\n",
      " [ 447 8978  241   19   26]\n",
      " [ 153  444 1823    0    1]\n",
      " [   2 2142    5  363   42]\n",
      " [   1  363    2   16   18]]\n",
      "0.705047995126\n"
     ]
    }
   ],
   "source": [
    "print(confusion_matrix(test_targets, preds))\n",
    "print(precision_score(test_targets, preds, average='macro'))"
   ]
  },
  {
   "cell_type": "code",
   "execution_count": null,
   "metadata": {
    "collapsed": true
   },
   "outputs": [],
   "source": []
  }
 ],
 "metadata": {
  "kernelspec": {
   "display_name": "Python 2",
   "language": "python",
   "name": "python2"
  },
  "language_info": {
   "codemirror_mode": {
    "name": "ipython",
    "version": 2
   },
   "file_extension": ".py",
   "mimetype": "text/x-python",
   "name": "python",
   "nbconvert_exporter": "python",
   "pygments_lexer": "ipython2",
   "version": "2.7.11"
  }
 },
 "nbformat": 4,
 "nbformat_minor": 0
}
