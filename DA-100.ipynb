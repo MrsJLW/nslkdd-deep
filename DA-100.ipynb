{
 "cells": [
  {
   "cell_type": "code",
   "execution_count": 1,
   "metadata": {
    "collapsed": false
   },
   "outputs": [],
   "source": [
    "import tensorflow as tf\n",
    "import pandas as pd\n",
    "import numpy as np\n",
    "from sklearn.datasets import load_iris\n",
    "from sklearn.preprocessing import LabelBinarizer\n",
    "from sklearn.metrics import mean_squared_error, precision_score\n",
    "from sklearn.linear_model import LogisticRegression\n",
    "from sklearn.cross_validation import cross_val_score\n",
    "from sklearn.preprocessing import StandardScaler\n",
    "from sklearn.metrics import accuracy_score\n",
    "from sklearn.metrics import confusion_matrix\n",
    "from sklearn.ensemble import RandomForestClassifier"
   ]
  },
  {
   "cell_type": "code",
   "execution_count": 2,
   "metadata": {
    "collapsed": false
   },
   "outputs": [],
   "source": [
    "train_dataset = np.genfromtxt('resources/train.csv', dtype=np.float32, delimiter=',')\n",
    "train_targets = train_dataset[:,-1]\n",
    "test_dataset = np.genfromtxt('resources/test.csv', dtype=np.float32, delimiter=',')\n",
    "test_targets = test_dataset[:,-1]\n",
    "combined_dataset=np.concatenate((train_dataset[:,:-1], test_dataset[:,:-1]))"
   ]
  },
  {
   "cell_type": "code",
   "execution_count": 3,
   "metadata": {
    "collapsed": false
   },
   "outputs": [
    {
     "name": "stdout",
     "output_type": "stream",
     "text": [
      "122\n"
     ]
    }
   ],
   "source": [
    "numeric_indices = []\n",
    "for i in range(combined_dataset.shape[1]):\n",
    "    n_unique = len(np.unique(combined_dataset[:, i]))\n",
    "    numeric_indices.append(n_unique > 2)\n",
    "print (len(numeric_indices))\n",
    "numeric_indices = np.array(numeric_indices, dtype=np.bool)   "
   ]
  },
  {
   "cell_type": "code",
   "execution_count": 4,
   "metadata": {
    "collapsed": false
   },
   "outputs": [],
   "source": [
    "combined_dataset[:, numeric_indices] = StandardScaler().fit_transform(\n",
    "                                        combined_dataset[:, numeric_indices]\n",
    "                                        )"
   ]
  },
  {
   "cell_type": "code",
   "execution_count": 8,
   "metadata": {
    "collapsed": false
   },
   "outputs": [],
   "source": [
    "batch_size = 1500\n",
    "num_feature = 122\n",
    "num_labels = 5\n",
    "graph = tf.Graph()\n",
    "with graph.as_default():\n",
    "\n",
    "    tf_dataset = tf.placeholder(tf.float32, shape=(None, num_feature))\n",
    "    \n",
    "    n_hidden_1 = 200\n",
    "#     n_hidden_2 = 100\n",
    "#     n_hidden_3 = 500\n",
    "    n_input = num_feature\n",
    "\n",
    "    wh1 = tf.Variable(tf.truncated_normal([n_input, n_hidden_1], dtype=tf.float32))\n",
    "#     wh2 = tf.Variable(tf.truncated_normal([n_hidden_1, n_hidden_2], dtype=tf.float32))\n",
    "#     wh3 = tf.Variable(tf.truncated_normal([n_hidden_2, n_hidden_3], dtype=tf.float32))\n",
    "#     wo = tf.Variable(tf.zeros([n_hidden_1, n_input], dtype=tf.float32))\n",
    "#     wo.initialized_value = tf.transpose(wh1)\n",
    "    b1 = tf.Variable(tf.truncated_normal([n_hidden_1], dtype=tf.float32))\n",
    "#     b2 = tf.Variable(tf.truncated_normal([n_hidden_2], dtype=tf.float32))\n",
    "#     b3 = tf.Variable(tf.truncated_normal([n_hidden_3], dtype=tf.float32))\n",
    "    bo = tf.Variable(tf.truncated_normal([n_input], dtype=tf.float32))\n",
    "    layer_1 = tf.add(tf.matmul(tf_dataset, wh1), b1)\n",
    "    def compute_logit():\n",
    "#         layer_2 = tf.nn.relu(tf.add(tf.matmul(layer_1, wh2), b2))\n",
    "#         layer_3 = tf.nn.sigmoid(tf.add(tf.matmul(layer_2, wh3), b3))\n",
    "        return tf.matmul(layer_1, tf.transpose(wh1)) + bo \n",
    "\n",
    "    \n",
    "    logits = compute_logit()\n",
    "    difference = tf.sub(tf_dataset, logits) \n",
    "    loss = tf.sqrt(tf.reduce_mean(tf.square(difference)))# +  0.0001 * (tf.nn.l2_loss(wh1) + tf.nn.l2_loss(wo))\n",
    "#     loss = tf.reduce_mean(tf.nn.softmax_cross_entropy_with_logits(logits,tf_train_dataset))\n",
    "    optimizer = tf.train.AdamOptimizer(0.001).minimize(loss)\n",
    "    train_prediction = compute_logit()"
   ]
  },
  {
   "cell_type": "code",
   "execution_count": 7,
   "metadata": {
    "collapsed": false
   },
   "outputs": [
    {
     "name": "stdout",
     "output_type": "stream",
     "text": [
      "Initialized\n",
      "('Minibatch loss at step', 0, ':', 215.77296)\n",
      "('Minibatch loss at step', 500, ':', 88.03331)\n",
      "('Minibatch loss at step', 1000, ':', 39.582722)\n",
      "('Minibatch loss at step', 1500, ':', 15.657598)\n",
      "('Minibatch loss at step', 2000, ':', 6.6677899)\n",
      "('Minibatch loss at step', 2500, ':', 2.8851533)\n",
      "('Minibatch loss at step', 3000, ':', 1.9223933)\n",
      "('Minibatch loss at step', 3500, ':', 0.58876961)\n",
      "('Minibatch loss at step', 4000, ':', 0.53606808)\n",
      "('Minibatch loss at step', 4500, ':', 0.34330812)\n",
      "('Minibatch loss at step', 5000, ':', 0.30264223)\n",
      "('Minibatch loss at step', 5500, ':', 0.31103617)\n",
      "('Minibatch loss at step', 6000, ':', 0.3156549)\n",
      "('Minibatch loss at step', 6500, ':', 0.30805525)\n",
      "('Minibatch loss at step', 7000, ':', 0.28724974)\n",
      "('Minibatch loss at step', 7500, ':', 0.30913514)\n",
      "('Minibatch loss at step', 8000, ':', 0.30670795)\n",
      "('Minibatch loss at step', 8500, ':', 0.29458201)\n",
      "('Minibatch loss at step', 9000, ':', 0.29349822)\n",
      "('Minibatch loss at step', 9500, ':', 0.29908133)\n"
     ]
    },
    {
     "ename": "InvalidArgumentError",
     "evalue": "You must feed a value for placeholder tensor 'Placeholder' with dtype float\n\t [[Node: Placeholder = Placeholder[dtype=DT_FLOAT, shape=[], _device=\"/job:localhost/replica:0/task:0/cpu:0\"]()]]\nCaused by op u'Placeholder', defined at:\n  File \"/home/nilabhra/anaconda/lib/python2.7/runpy.py\", line 162, in _run_module_as_main\n    \"__main__\", fname, loader, pkg_name)\n  File \"/home/nilabhra/anaconda/lib/python2.7/runpy.py\", line 72, in _run_code\n    exec code in run_globals\n  File \"/home/nilabhra/anaconda/lib/python2.7/site-packages/IPython/kernel/__main__.py\", line 3, in <module>\n    app.launch_new_instance()\n  File \"/home/nilabhra/anaconda/lib/python2.7/site-packages/IPython/config/application.py\", line 574, in launch_instance\n    app.start()\n  File \"/home/nilabhra/anaconda/lib/python2.7/site-packages/IPython/kernel/zmq/kernelapp.py\", line 373, in start\n    ioloop.IOLoop.instance().start()\n  File \"/home/nilabhra/anaconda/lib/python2.7/site-packages/zmq/eventloop/ioloop.py\", line 151, in start\n    super(ZMQIOLoop, self).start()\n  File \"/home/nilabhra/anaconda/lib/python2.7/site-packages/tornado/ioloop.py\", line 866, in start\n    handler_func(fd_obj, events)\n  File \"/home/nilabhra/anaconda/lib/python2.7/site-packages/tornado/stack_context.py\", line 275, in null_wrapper\n    return fn(*args, **kwargs)\n  File \"/home/nilabhra/anaconda/lib/python2.7/site-packages/zmq/eventloop/zmqstream.py\", line 433, in _handle_events\n    self._handle_recv()\n  File \"/home/nilabhra/anaconda/lib/python2.7/site-packages/zmq/eventloop/zmqstream.py\", line 465, in _handle_recv\n    self._run_callback(callback, msg)\n  File \"/home/nilabhra/anaconda/lib/python2.7/site-packages/zmq/eventloop/zmqstream.py\", line 407, in _run_callback\n    callback(*args, **kwargs)\n  File \"/home/nilabhra/anaconda/lib/python2.7/site-packages/tornado/stack_context.py\", line 275, in null_wrapper\n    return fn(*args, **kwargs)\n  File \"/home/nilabhra/anaconda/lib/python2.7/site-packages/IPython/kernel/zmq/kernelbase.py\", line 252, in dispatcher\n    return self.dispatch_shell(stream, msg)\n  File \"/home/nilabhra/anaconda/lib/python2.7/site-packages/IPython/kernel/zmq/kernelbase.py\", line 213, in dispatch_shell\n    handler(stream, idents, msg)\n  File \"/home/nilabhra/anaconda/lib/python2.7/site-packages/IPython/kernel/zmq/kernelbase.py\", line 362, in execute_request\n    user_expressions, allow_stdin)\n  File \"/home/nilabhra/anaconda/lib/python2.7/site-packages/IPython/kernel/zmq/ipkernel.py\", line 181, in do_execute\n    shell.run_cell(code, store_history=store_history, silent=silent)\n  File \"/home/nilabhra/anaconda/lib/python2.7/site-packages/IPython/core/interactiveshell.py\", line 2871, in run_cell\n    interactivity=interactivity, compiler=compiler, result=result)\n  File \"/home/nilabhra/anaconda/lib/python2.7/site-packages/IPython/core/interactiveshell.py\", line 2975, in run_ast_nodes\n    if self.run_code(code, result):\n  File \"/home/nilabhra/anaconda/lib/python2.7/site-packages/IPython/core/interactiveshell.py\", line 3035, in run_code\n    exec(code_obj, self.user_global_ns, self.user_ns)\n  File \"<ipython-input-6-0e1484756647>\", line 7, in <module>\n    tf_noisy_train_dataset = tf.placeholder(tf.float32, shape=(None, num_feature))\n  File \"/home/nilabhra/anaconda/lib/python2.7/site-packages/tensorflow/python/ops/array_ops.py\", line 651, in placeholder\n    name=name)\n  File \"/home/nilabhra/anaconda/lib/python2.7/site-packages/tensorflow/python/ops/gen_array_ops.py\", line 463, in _placeholder\n    name=name)\n  File \"/home/nilabhra/anaconda/lib/python2.7/site-packages/tensorflow/python/ops/op_def_library.py\", line 633, in apply_op\n    op_def=op_def)\n  File \"/home/nilabhra/anaconda/lib/python2.7/site-packages/tensorflow/python/framework/ops.py\", line 1710, in create_op\n    original_op=self._default_original_op, op_def=op_def)\n  File \"/home/nilabhra/anaconda/lib/python2.7/site-packages/tensorflow/python/framework/ops.py\", line 988, in __init__\n    self._traceback = _extract_stack()\n",
     "output_type": "error",
     "traceback": [
      "\u001b[1;31m---------------------------------------------------------------------------\u001b[0m",
      "\u001b[1;31mInvalidArgumentError\u001b[0m                      Traceback (most recent call last)",
      "\u001b[1;32m<ipython-input-7-ae12d558c79f>\u001b[0m in \u001b[0;36m<module>\u001b[1;34m()\u001b[0m\n\u001b[0;32m     20\u001b[0m             \u001b[1;32mprint\u001b[0m\u001b[1;33m(\u001b[0m\u001b[1;34m\"Minibatch loss at step\"\u001b[0m\u001b[1;33m,\u001b[0m \u001b[0mstep\u001b[0m\u001b[1;33m,\u001b[0m \u001b[1;34m\":\"\u001b[0m\u001b[1;33m,\u001b[0m \u001b[0ml\u001b[0m\u001b[1;33m)\u001b[0m\u001b[1;33m\u001b[0m\u001b[0m\n\u001b[0;32m     21\u001b[0m \u001b[1;31m#             print \"SKLEARN loss\", np.sqrt(mean_squared_error(predictions, batch_data))\u001b[0m\u001b[1;33m\u001b[0m\u001b[1;33m\u001b[0m\u001b[0m\n\u001b[1;32m---> 22\u001b[1;33m     \u001b[0mnew_input\u001b[0m\u001b[1;33m=\u001b[0m\u001b[0mlayer_1\u001b[0m\u001b[1;33m.\u001b[0m\u001b[0meval\u001b[0m\u001b[1;33m(\u001b[0m\u001b[0mfeed_dict\u001b[0m \u001b[1;33m=\u001b[0m \u001b[1;33m{\u001b[0m\u001b[0mtf_train_dataset\u001b[0m \u001b[1;33m:\u001b[0m\u001b[0mcombined_dataset\u001b[0m\u001b[1;33m}\u001b[0m\u001b[1;33m)\u001b[0m\u001b[1;33m\u001b[0m\u001b[0m\n\u001b[0m",
      "\u001b[1;32m/home/nilabhra/anaconda/lib/python2.7/site-packages/tensorflow/python/framework/ops.pyc\u001b[0m in \u001b[0;36meval\u001b[1;34m(self, feed_dict, session)\u001b[0m\n\u001b[0;32m    403\u001b[0m \u001b[1;33m\u001b[0m\u001b[0m\n\u001b[0;32m    404\u001b[0m     \"\"\"\n\u001b[1;32m--> 405\u001b[1;33m     \u001b[1;32mreturn\u001b[0m \u001b[0m_eval_using_default_session\u001b[0m\u001b[1;33m(\u001b[0m\u001b[0mself\u001b[0m\u001b[1;33m,\u001b[0m \u001b[0mfeed_dict\u001b[0m\u001b[1;33m,\u001b[0m \u001b[0mself\u001b[0m\u001b[1;33m.\u001b[0m\u001b[0mgraph\u001b[0m\u001b[1;33m,\u001b[0m \u001b[0msession\u001b[0m\u001b[1;33m)\u001b[0m\u001b[1;33m\u001b[0m\u001b[0m\n\u001b[0m\u001b[0;32m    406\u001b[0m \u001b[1;33m\u001b[0m\u001b[0m\n\u001b[0;32m    407\u001b[0m \u001b[1;33m\u001b[0m\u001b[0m\n",
      "\u001b[1;32m/home/nilabhra/anaconda/lib/python2.7/site-packages/tensorflow/python/framework/ops.pyc\u001b[0m in \u001b[0;36m_eval_using_default_session\u001b[1;34m(tensors, feed_dict, graph, session)\u001b[0m\n\u001b[0;32m   2726\u001b[0m                        \u001b[1;34m\"the tensor's graph is different from the session's \"\u001b[0m\u001b[1;33m\u001b[0m\u001b[0m\n\u001b[0;32m   2727\u001b[0m                        \"graph.\")\n\u001b[1;32m-> 2728\u001b[1;33m   \u001b[1;32mreturn\u001b[0m \u001b[0msession\u001b[0m\u001b[1;33m.\u001b[0m\u001b[0mrun\u001b[0m\u001b[1;33m(\u001b[0m\u001b[0mtensors\u001b[0m\u001b[1;33m,\u001b[0m \u001b[0mfeed_dict\u001b[0m\u001b[1;33m)\u001b[0m\u001b[1;33m\u001b[0m\u001b[0m\n\u001b[0m\u001b[0;32m   2729\u001b[0m \u001b[1;33m\u001b[0m\u001b[0m\n\u001b[0;32m   2730\u001b[0m \u001b[1;33m\u001b[0m\u001b[0m\n",
      "\u001b[1;32m/home/nilabhra/anaconda/lib/python2.7/site-packages/tensorflow/python/client/session.pyc\u001b[0m in \u001b[0;36mrun\u001b[1;34m(self, fetches, feed_dict)\u001b[0m\n\u001b[0;32m    343\u001b[0m \u001b[1;33m\u001b[0m\u001b[0m\n\u001b[0;32m    344\u001b[0m     \u001b[1;31m# Run request and get response.\u001b[0m\u001b[1;33m\u001b[0m\u001b[1;33m\u001b[0m\u001b[0m\n\u001b[1;32m--> 345\u001b[1;33m     \u001b[0mresults\u001b[0m \u001b[1;33m=\u001b[0m \u001b[0mself\u001b[0m\u001b[1;33m.\u001b[0m\u001b[0m_do_run\u001b[0m\u001b[1;33m(\u001b[0m\u001b[0mtarget_list\u001b[0m\u001b[1;33m,\u001b[0m \u001b[0munique_fetch_targets\u001b[0m\u001b[1;33m,\u001b[0m \u001b[0mfeed_dict_string\u001b[0m\u001b[1;33m)\u001b[0m\u001b[1;33m\u001b[0m\u001b[0m\n\u001b[0m\u001b[0;32m    346\u001b[0m \u001b[1;33m\u001b[0m\u001b[0m\n\u001b[0;32m    347\u001b[0m     \u001b[1;31m# User may have fetched the same tensor multiple times, but we\u001b[0m\u001b[1;33m\u001b[0m\u001b[1;33m\u001b[0m\u001b[0m\n",
      "\u001b[1;32m/home/nilabhra/anaconda/lib/python2.7/site-packages/tensorflow/python/client/session.pyc\u001b[0m in \u001b[0;36m_do_run\u001b[1;34m(self, target_list, fetch_list, feed_dict)\u001b[0m\n\u001b[0;32m    417\u001b[0m         \u001b[1;31m# pylint: disable=protected-access\u001b[0m\u001b[1;33m\u001b[0m\u001b[1;33m\u001b[0m\u001b[0m\n\u001b[0;32m    418\u001b[0m         raise errors._make_specific_exception(node_def, op, e.error_message,\n\u001b[1;32m--> 419\u001b[1;33m                                               e.code)\n\u001b[0m\u001b[0;32m    420\u001b[0m         \u001b[1;31m# pylint: enable=protected-access\u001b[0m\u001b[1;33m\u001b[0m\u001b[1;33m\u001b[0m\u001b[0m\n\u001b[0;32m    421\u001b[0m       \u001b[1;32mraise\u001b[0m \u001b[0me_type\u001b[0m\u001b[1;33m,\u001b[0m \u001b[0me_value\u001b[0m\u001b[1;33m,\u001b[0m \u001b[0me_traceback\u001b[0m\u001b[1;33m\u001b[0m\u001b[0m\n",
      "\u001b[1;31mInvalidArgumentError\u001b[0m: You must feed a value for placeholder tensor 'Placeholder' with dtype float\n\t [[Node: Placeholder = Placeholder[dtype=DT_FLOAT, shape=[], _device=\"/job:localhost/replica:0/task:0/cpu:0\"]()]]\nCaused by op u'Placeholder', defined at:\n  File \"/home/nilabhra/anaconda/lib/python2.7/runpy.py\", line 162, in _run_module_as_main\n    \"__main__\", fname, loader, pkg_name)\n  File \"/home/nilabhra/anaconda/lib/python2.7/runpy.py\", line 72, in _run_code\n    exec code in run_globals\n  File \"/home/nilabhra/anaconda/lib/python2.7/site-packages/IPython/kernel/__main__.py\", line 3, in <module>\n    app.launch_new_instance()\n  File \"/home/nilabhra/anaconda/lib/python2.7/site-packages/IPython/config/application.py\", line 574, in launch_instance\n    app.start()\n  File \"/home/nilabhra/anaconda/lib/python2.7/site-packages/IPython/kernel/zmq/kernelapp.py\", line 373, in start\n    ioloop.IOLoop.instance().start()\n  File \"/home/nilabhra/anaconda/lib/python2.7/site-packages/zmq/eventloop/ioloop.py\", line 151, in start\n    super(ZMQIOLoop, self).start()\n  File \"/home/nilabhra/anaconda/lib/python2.7/site-packages/tornado/ioloop.py\", line 866, in start\n    handler_func(fd_obj, events)\n  File \"/home/nilabhra/anaconda/lib/python2.7/site-packages/tornado/stack_context.py\", line 275, in null_wrapper\n    return fn(*args, **kwargs)\n  File \"/home/nilabhra/anaconda/lib/python2.7/site-packages/zmq/eventloop/zmqstream.py\", line 433, in _handle_events\n    self._handle_recv()\n  File \"/home/nilabhra/anaconda/lib/python2.7/site-packages/zmq/eventloop/zmqstream.py\", line 465, in _handle_recv\n    self._run_callback(callback, msg)\n  File \"/home/nilabhra/anaconda/lib/python2.7/site-packages/zmq/eventloop/zmqstream.py\", line 407, in _run_callback\n    callback(*args, **kwargs)\n  File \"/home/nilabhra/anaconda/lib/python2.7/site-packages/tornado/stack_context.py\", line 275, in null_wrapper\n    return fn(*args, **kwargs)\n  File \"/home/nilabhra/anaconda/lib/python2.7/site-packages/IPython/kernel/zmq/kernelbase.py\", line 252, in dispatcher\n    return self.dispatch_shell(stream, msg)\n  File \"/home/nilabhra/anaconda/lib/python2.7/site-packages/IPython/kernel/zmq/kernelbase.py\", line 213, in dispatch_shell\n    handler(stream, idents, msg)\n  File \"/home/nilabhra/anaconda/lib/python2.7/site-packages/IPython/kernel/zmq/kernelbase.py\", line 362, in execute_request\n    user_expressions, allow_stdin)\n  File \"/home/nilabhra/anaconda/lib/python2.7/site-packages/IPython/kernel/zmq/ipkernel.py\", line 181, in do_execute\n    shell.run_cell(code, store_history=store_history, silent=silent)\n  File \"/home/nilabhra/anaconda/lib/python2.7/site-packages/IPython/core/interactiveshell.py\", line 2871, in run_cell\n    interactivity=interactivity, compiler=compiler, result=result)\n  File \"/home/nilabhra/anaconda/lib/python2.7/site-packages/IPython/core/interactiveshell.py\", line 2975, in run_ast_nodes\n    if self.run_code(code, result):\n  File \"/home/nilabhra/anaconda/lib/python2.7/site-packages/IPython/core/interactiveshell.py\", line 3035, in run_code\n    exec(code_obj, self.user_global_ns, self.user_ns)\n  File \"<ipython-input-6-0e1484756647>\", line 7, in <module>\n    tf_noisy_train_dataset = tf.placeholder(tf.float32, shape=(None, num_feature))\n  File \"/home/nilabhra/anaconda/lib/python2.7/site-packages/tensorflow/python/ops/array_ops.py\", line 651, in placeholder\n    name=name)\n  File \"/home/nilabhra/anaconda/lib/python2.7/site-packages/tensorflow/python/ops/gen_array_ops.py\", line 463, in _placeholder\n    name=name)\n  File \"/home/nilabhra/anaconda/lib/python2.7/site-packages/tensorflow/python/ops/op_def_library.py\", line 633, in apply_op\n    op_def=op_def)\n  File \"/home/nilabhra/anaconda/lib/python2.7/site-packages/tensorflow/python/framework/ops.py\", line 1710, in create_op\n    original_op=self._default_original_op, op_def=op_def)\n  File \"/home/nilabhra/anaconda/lib/python2.7/site-packages/tensorflow/python/framework/ops.py\", line 988, in __init__\n    self._traceback = _extract_stack()\n"
     ]
    }
   ],
   "source": [
    "num_steps = 15000\n",
    "preds = []\n",
    "randomized_dataset = combined_dataset.copy()\n",
    "np.random.shuffle(randomized_dataset)\n",
    "new_input=[]\n",
    "with tf.Session(graph=graph) as session:\n",
    "    tf.initialize_all_variables().run()\n",
    "    print (\"Initialized\")\n",
    "    for step in range(num_steps):\n",
    "        offset = (step * batch_size) % (randomized_dataset.shape[0] - batch_size)\n",
    "\n",
    "        batch_data = randomized_dataset[offset:(offset + batch_size), :]\n",
    "        noisy_batch_data = batch_data.copy()\n",
    "        for i, point in enumerate(noisy_batch_data):\n",
    "            noisy_batch_data[i, :] = point + np.random.normal(0, 1, noisy_batch_data.shape[1])\n",
    "        feed_dict = {tf_dataset: noisy_batch_data}\n",
    "        _, l, predictions = session.run(\n",
    "          [optimizer, loss, train_prediction], feed_dict=feed_dict)\n",
    "        if (step % 500 == 0):\n",
    "            print(\"Minibatch loss at step\", step, \":\", l)\n",
    "#             print \"SKLEARN loss\", np.sqrt(mean_squared_error(predictions, batch_data))\n",
    "    new_input=layer_1.eval(feed_dict = {tf_dataset :combined_dataset})"
   ]
  },
  {
   "cell_type": "code",
   "execution_count": 10,
   "metadata": {
    "collapsed": false
   },
   "outputs": [
    {
     "name": "stdout",
     "output_type": "stream",
     "text": [
      "(125973, 201)\n"
     ]
    }
   ],
   "source": [
    "#saving new train & test data \n",
    "from collections import Counter\n",
    "new_train_data=new_input[:train_dataset.shape[0]]\n",
    "new_train_data=np.c_[new_train_data,train_targets]\n",
    "new_test_data=new_input[train_dataset.shape[0]:]\n",
    "new_test_data=np.c_[new_test_data, test_targets]\n",
    "print(new_train_data.shape)\n",
    "np.savez('out/new_input.npz',train=new_train_data, test=new_test_data)"
   ]
  },
  {
   "cell_type": "code",
   "execution_count": 11,
   "metadata": {
    "collapsed": true
   },
   "outputs": [],
   "source": [
    "model = LogisticRegression(C=1,class_weight='balanced',n_jobs=-1)"
   ]
  },
  {
   "cell_type": "code",
   "execution_count": 12,
   "metadata": {
    "collapsed": false
   },
   "outputs": [
    {
     "name": "stdout",
     "output_type": "stream",
     "text": [
      "0.732072046713\n"
     ]
    }
   ],
   "source": [
    "print (cross_val_score(model, new_train_data[:, :-1], train_targets, cv=3, scoring='precision_macro').mean())"
   ]
  },
  {
   "cell_type": "code",
   "execution_count": 5,
   "metadata": {
    "collapsed": true
   },
   "outputs": [],
   "source": [
    "new_train_data = np.load('out/new_input.npz')['train']\n",
    "new_test_data = np.load('out/new_input.npz')['test']"
   ]
  },
  {
   "cell_type": "code",
   "execution_count": 22,
   "metadata": {
    "collapsed": false
   },
   "outputs": [
    {
     "data": {
      "text/plain": [
       "LogisticRegression(C=1, class_weight='balanced', dual=False,\n",
       "          fit_intercept=True, intercept_scaling=1, max_iter=100,\n",
       "          multi_class='ovr', n_jobs=-1, penalty='l2', random_state=None,\n",
       "          solver='liblinear', tol=0.0001, verbose=0, warm_start=False)"
      ]
     },
     "execution_count": 22,
     "metadata": {},
     "output_type": "execute_result"
    }
   ],
   "source": [
    "model.fit(new_train_data[:, :-1], train_targets)"
   ]
  },
  {
   "cell_type": "code",
   "execution_count": 23,
   "metadata": {
    "collapsed": true
   },
   "outputs": [],
   "source": [
    "preds = model.predict(new_test_data[:, :-1])\n",
    "# np.savez('out/preds.npz',preds=preds)"
   ]
  },
  {
   "cell_type": "code",
   "execution_count": 24,
   "metadata": {
    "collapsed": false
   },
   "outputs": [
    {
     "name": "stdout",
     "output_type": "stream",
     "text": [
      "0.756919801278\n"
     ]
    }
   ],
   "source": [
    "print(accuracy_score(preds, test_targets))"
   ]
  },
  {
   "cell_type": "code",
   "execution_count": 25,
   "metadata": {
    "collapsed": false
   },
   "outputs": [
    {
     "name": "stdout",
     "output_type": "stream",
     "text": [
      "[[6056 1344   58    0    0]\n",
      " [ 421 8978  291   15    6]\n",
      " [ 120  546 1669   86    0]\n",
      " [   2 2196    8  342    6]\n",
      " [   5  362    1   13   19]]\n",
      "0.754402008597\n"
     ]
    }
   ],
   "source": [
    "print(confusion_matrix(test_targets, preds))\n",
    "print(precision_score(test_targets, preds, average='macro'))"
   ]
  },
  {
   "cell_type": "code",
   "execution_count": null,
   "metadata": {
    "collapsed": true
   },
   "outputs": [],
   "source": []
  }
 ],
 "metadata": {
  "kernelspec": {
   "display_name": "Python 2",
   "language": "python",
   "name": "python2"
  },
  "language_info": {
   "codemirror_mode": {
    "name": "ipython",
    "version": 2
   },
   "file_extension": ".py",
   "mimetype": "text/x-python",
   "name": "python",
   "nbconvert_exporter": "python",
   "pygments_lexer": "ipython2",
   "version": "2.7.11"
  }
 },
 "nbformat": 4,
 "nbformat_minor": 0
}
