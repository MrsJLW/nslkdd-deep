{
 "cells": [
  {
   "cell_type": "code",
   "execution_count": 1,
   "metadata": {
    "collapsed": true
   },
   "outputs": [],
   "source": [
    "import tensorflow as tf\n",
    "import pandas as pd\n",
    "import numpy as np\n",
    "from sklearn.datasets import load_iris\n",
    "from sklearn.preprocessing import LabelBinarizer\n",
    "from sklearn.metrics import mean_squared_error, precision_score\n",
    "from sklearn.linear_model import LogisticRegression\n",
    "from sklearn.cross_validation import cross_val_score\n",
    "from sklearn.preprocessing import StandardScaler\n",
    "from sklearn.metrics import accuracy_score\n",
    "from sklearn.metrics import confusion_matrix\n",
    "from sklearn.ensemble import RandomForestClassifier"
   ]
  },
  {
   "cell_type": "code",
   "execution_count": 2,
   "metadata": {
    "collapsed": false
   },
   "outputs": [],
   "source": [
    "train_dataset = np.genfromtxt('resources/train.csv', dtype=np.float32, delimiter=',')\n",
    "train_targets = train_dataset[:,-1]\n",
    "test_dataset = np.genfromtxt('resources/test.csv', dtype=np.float32, delimiter=',')\n",
    "test_targets = test_dataset[:,-1]\n",
    "combined_dataset=np.concatenate((train_dataset[:,:-1], test_dataset[:,:-1]))"
   ]
  },
  {
   "cell_type": "code",
   "execution_count": 3,
   "metadata": {
    "collapsed": false
   },
   "outputs": [
    {
     "name": "stdout",
     "output_type": "stream",
     "text": [
      "122\n"
     ]
    }
   ],
   "source": [
    "numeric_indices = []\n",
    "for i in range(combined_dataset.shape[1]):\n",
    "    n_unique = len(np.unique(combined_dataset[:, i]))\n",
    "    numeric_indices.append(n_unique > 2)\n",
    "print len(numeric_indices)\n",
    "numeric_indices = np.array(numeric_indices, dtype=np.bool)        "
   ]
  },
  {
   "cell_type": "code",
   "execution_count": 4,
   "metadata": {
    "collapsed": false
   },
   "outputs": [],
   "source": [
    "combined_dataset[:, numeric_indices] = StandardScaler().fit_transform(\n",
    "                                        combined_dataset[:, numeric_indices]\n",
    "                                        )"
   ]
  },
  {
   "cell_type": "code",
   "execution_count": 5,
   "metadata": {
    "collapsed": true
   },
   "outputs": [],
   "source": [
    "batch_size = 1500\n",
    "num_feature = 122\n",
    "num_labels = 5\n",
    "graph = tf.Graph()\n",
    "with graph.as_default():\n",
    "\n",
    "    tf_noisy_train_dataset = tf.placeholder(tf.float32, shape=(None, num_feature))\n",
    "    tf_train_dataset = tf.placeholder(tf.float32, shape=(None, num_feature))\n",
    "    tf_test_dataset = tf.constant(combined_dataset)\n",
    "    \n",
    "    n_hidden_1 = 50\n",
    "#     n_hidden_2 = 100\n",
    "#     n_hidden_3 = 500\n",
    "    n_input = num_feature\n",
    "\n",
    "    wh1 = tf.Variable(tf.truncated_normal([n_input, n_hidden_1], dtype=tf.float32))\n",
    "#     wh2 = tf.Variable(tf.truncated_normal([n_hidden_1, n_hidden_2], dtype=tf.float32))\n",
    "#     wh3 = tf.Variable(tf.truncated_normal([n_hidden_2, n_hidden_3], dtype=tf.float32))\n",
    "#     wo = tf.Variable(tf.zeros([n_hidden_1, n_input], dtype=tf.float32))\n",
    "#     wo.initialized_value = tf.transpose(wh1)\n",
    "    b1 = tf.Variable(tf.truncated_normal([n_hidden_1], dtype=tf.float32))\n",
    "#     b2 = tf.Variable(tf.truncated_normal([n_hidden_2], dtype=tf.float32))\n",
    "#     b3 = tf.Variable(tf.truncated_normal([n_hidden_3], dtype=tf.float32))\n",
    "    bo = tf.Variable(tf.truncated_normal([n_input], dtype=tf.float32))\n",
    "    layer_1 = tf.add(tf.matmul(tf_train_dataset, wh1), b1)\n",
    "    def compute_logit(x):\n",
    "#         layer_2 = tf.nn.relu(tf.add(tf.matmul(layer_1, wh2), b2))\n",
    "#         layer_3 = tf.nn.sigmoid(tf.add(tf.matmul(layer_2, wh3), b3))\n",
    "        return tf.matmul(layer_1, tf.transpose(wh1)) + bo \n",
    "\n",
    "    \n",
    "    logits = compute_logit(tf_noisy_train_dataset)\n",
    "    difference = tf.sub(tf_train_dataset, logits) \n",
    "    loss = tf.sqrt(tf.reduce_mean(tf.square(difference)))# +  0.0001 * (tf.nn.l2_loss(wh1) + tf.nn.l2_loss(wo))\n",
    "#     loss = tf.reduce_mean(tf.nn.softmax_cross_entropy_with_logits(logits,tf_train_dataset))\n",
    "    optimizer = tf.train.AdamOptimizer(0.001).minimize(loss)\n",
    "    train_prediction = compute_logit(tf_train_dataset)"
   ]
  },
  {
   "cell_type": "code",
   "execution_count": 6,
   "metadata": {
    "collapsed": false
   },
   "outputs": [
    {
     "name": "stdout",
     "output_type": "stream",
     "text": [
      "Initialized\n",
      "('Minibatch loss at step', 0, ':', 36.835251)\n",
      "('Minibatch loss at step', 500, ':', 11.012452)\n",
      "('Minibatch loss at step', 1000, ':', 13.597469)\n",
      "('Minibatch loss at step', 1500, ':', 3.3799033)\n",
      "('Minibatch loss at step', 2000, ':', 2.3000276)\n",
      "('Minibatch loss at step', 2500, ':', 1.2403545)\n",
      "('Minibatch loss at step', 3000, ':', 0.80488724)\n",
      "('Minibatch loss at step', 3500, ':', 0.53259474)\n",
      "('Minibatch loss at step', 4000, ':', 0.40530542)\n",
      "('Minibatch loss at step', 4500, ':', 1.5904599)\n",
      "('Minibatch loss at step', 5000, ':', 0.22646885)\n",
      "('Minibatch loss at step', 5500, ':', 0.16779025)\n",
      "('Minibatch loss at step', 6000, ':', 0.12651327)\n",
      "('Minibatch loss at step', 6500, ':', 0.12335484)\n",
      "('Minibatch loss at step', 7000, ':', 0.088059731)\n",
      "('Minibatch loss at step', 7500, ':', 0.11866655)\n",
      "('Minibatch loss at step', 8000, ':', 0.071507461)\n",
      "('Minibatch loss at step', 8500, ':', 0.068368487)\n",
      "('Minibatch loss at step', 9000, ':', 0.061218556)\n",
      "('Minibatch loss at step', 9500, ':', 0.054938171)\n"
     ]
    }
   ],
   "source": [
    "num_steps = 10000\n",
    "preds = []\n",
    "randomized_dataset = combined_dataset.copy()\n",
    "np.random.shuffle(randomized_dataset)\n",
    "new_input=[]\n",
    "with tf.Session(graph=graph) as session:\n",
    "    tf.initialize_all_variables().run()\n",
    "    print (\"Initialized\")\n",
    "    for step in range(num_steps):\n",
    "        offset = (step * batch_size) % (randomized_dataset.shape[0] - batch_size)\n",
    "\n",
    "        batch_data = randomized_dataset[offset:(offset + batch_size), :]\n",
    "        noisy_batch_data = batch_data.copy()\n",
    "        for i, point in enumerate(noisy_batch_data):\n",
    "            noisy_batch_data[i, :] = point + np.random.normal(0, 0.25, noisy_batch_data.shape[1])\n",
    "        feed_dict = {tf_train_dataset : batch_data, tf_noisy_train_dataset: noisy_batch_data}\n",
    "        _, l, predictions = session.run(\n",
    "          [optimizer, loss, train_prediction], feed_dict=feed_dict)\n",
    "        if (step % 500 == 0):\n",
    "            print(\"Minibatch loss at step\", step, \":\", l)\n",
    "#             print \"SKLEARN loss\", np.sqrt(mean_squared_error(predictions, batch_data))\n",
    "    new_input=layer_1.eval(feed_dict = {tf_train_dataset :combined_dataset})"
   ]
  },
  {
   "cell_type": "code",
   "execution_count": 7,
   "metadata": {
    "collapsed": false
   },
   "outputs": [
    {
     "name": "stdout",
     "output_type": "stream",
     "text": [
      "Counter({2.0: 9711, 1.0: 7458, 4.0: 2554, 3.0: 2421, 5.0: 400})\n"
     ]
    }
   ],
   "source": [
    "#saving new train & test data \n",
    "from collections import Counter\n",
    "new_train_data=new_input[:train_dataset.shape[0]]\n",
    "new_train_data=np.c_[new_train_data,train_targets]\n",
    "new_test_data=new_input[train_dataset.shape[0]:]\n",
    "new_test_data=np.c_[new_test_data, test_targets]\n",
    "print(Counter(test_targets))\n",
    "np.savez('out/new_input.npz',train=new_train_data, test=new_test_data)"
   ]
  },
  {
   "cell_type": "code",
   "execution_count": 8,
   "metadata": {
    "collapsed": true
   },
   "outputs": [],
   "source": [
    "model = LogisticRegression(C=1,class_weight='balanced',n_jobs=-1)"
   ]
  },
  {
   "cell_type": "code",
   "execution_count": 52,
   "metadata": {
    "collapsed": false
   },
   "outputs": [
    {
     "name": "stdout",
     "output_type": "stream",
     "text": [
      "0.731061807641\n"
     ]
    }
   ],
   "source": [
    "print (cross_val_score(model, new_train_data[:, :-1], train_targets, cv=3, scoring='precision_macro').mean())"
   ]
  },
  {
   "cell_type": "code",
   "execution_count": 5,
   "metadata": {
    "collapsed": true
   },
   "outputs": [],
   "source": [
    "new_train_data = np.load('out/new_input.npz')['train']\n",
    "new_test_data = np.load('out/new_input.npz')['test']"
   ]
  },
  {
   "cell_type": "code",
   "execution_count": 9,
   "metadata": {
    "collapsed": false
   },
   "outputs": [
    {
     "data": {
      "text/plain": [
       "LogisticRegression(C=1, class_weight='balanced', dual=False,\n",
       "          fit_intercept=True, intercept_scaling=1, max_iter=100,\n",
       "          multi_class='ovr', n_jobs=-1, penalty='l2', random_state=None,\n",
       "          solver='liblinear', tol=0.0001, verbose=0, warm_start=False)"
      ]
     },
     "execution_count": 9,
     "metadata": {},
     "output_type": "execute_result"
    }
   ],
   "source": [
    "model.fit(new_train_data[:, :-1], train_targets)"
   ]
  },
  {
   "cell_type": "code",
   "execution_count": 10,
   "metadata": {
    "collapsed": true
   },
   "outputs": [],
   "source": [
    "preds = model.predict(new_test_data[:, :-1])\n",
    "# np.savez('out/preds.npz',preds=preds)"
   ]
  },
  {
   "cell_type": "code",
   "execution_count": 11,
   "metadata": {
    "collapsed": false
   },
   "outputs": [
    {
     "name": "stdout",
     "output_type": "stream",
     "text": [
      "0.744144783534\n"
     ]
    }
   ],
   "source": [
    "print(accuracy_score(preds, test_targets))"
   ]
  },
  {
   "cell_type": "code",
   "execution_count": 12,
   "metadata": {
    "collapsed": false
   },
   "outputs": [
    {
     "name": "stdout",
     "output_type": "stream",
     "text": [
      "[[5814 1598   43    3    0]\n",
      " [ 410 8969  303   20    9]\n",
      " [ 123  618 1617   59    4]\n",
      " [   1 2091   12  356   94]\n",
      " [   4  358    4   14   20]]\n",
      "0.667062645363\n"
     ]
    }
   ],
   "source": [
    "print(confusion_matrix(test_targets, preds))\n",
    "print(precision_score(test_targets, preds, average='macro'))"
   ]
  }
 ],
 "metadata": {
  "kernelspec": {
   "display_name": "Python 2",
   "language": "python",
   "name": "python2"
  },
  "language_info": {
   "codemirror_mode": {
    "name": "ipython",
    "version": 2
   },
   "file_extension": ".py",
   "mimetype": "text/x-python",
   "name": "python",
   "nbconvert_exporter": "python",
   "pygments_lexer": "ipython2",
   "version": "2.7.11"
  }
 },
 "nbformat": 4,
 "nbformat_minor": 0
}
