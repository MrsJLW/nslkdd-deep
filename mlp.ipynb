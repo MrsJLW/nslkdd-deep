{
 "cells": [
  {
   "cell_type": "code",
   "execution_count": 58,
   "metadata": {
    "collapsed": false
   },
   "outputs": [],
   "source": [
    "from keras.models import Sequential\n",
    "from keras.layers import Dense, Dropout, Activation\n",
    "from keras.optimizers import SGD\n",
    "import numpy as np\n",
    "from sklearn import preprocessing\n",
    "from sklearn.metrics import accuracy_score, confusion_matrix\n",
    "from collections import Counter\n",
    "import theano\n",
    "theano.config.device = 'gpu'\n",
    "theano.config.floatX = 'float32'"
   ]
  },
  {
   "cell_type": "code",
   "execution_count": 53,
   "metadata": {
    "collapsed": false
   },
   "outputs": [
    {
     "data": {
      "text/plain": [
       "(Counter({0: 58630, 1: 67343}), Counter({0: 12833, 1: 9711}))"
      ]
     },
     "execution_count": 53,
     "metadata": {},
     "output_type": "execute_result"
    }
   ],
   "source": [
    "lb = preprocessing.LabelBinarizer()\n",
    "data = np.load('out/new_input.npz')\n",
    "train_x, train_y = data['train'][:,:-1], data['train'][:,-1]\n",
    "test_x, test_y = data['test'][:,:-1],  data['test'][:,-1]\n",
    "train_y = np.array([1 if i == 2 else 0 for i in train_y])\n",
    "test_y = np.array([1 if i == 2 else 0 for i in test_y])\n",
    "# train_y_1hot = lb.fit(train_y).transform(train_y)\n",
    "# test_y_1hot = lb.fit(train_y).transform(test_y)\n",
    "# train_x.shape, train_y.shape, test_x.shape, test_y.shape\n",
    "Counter(train_y), Counter(test_y)"
   ]
  },
  {
   "cell_type": "code",
   "execution_count": 60,
   "metadata": {
    "collapsed": false
   },
   "outputs": [],
   "source": [
    "model = Sequential()\n",
    "\n",
    "model.add(Dense(500, input_dim=200, init='uniform'))\n",
    "model.add(Activation('sigmoid'))\n",
    "model.add(Dense(200, init='uniform'))\n",
    "model.add(Activation('sigmoid'))\n",
    "model.add(Dense(50, init='uniform'))\n",
    "model.add(Activation('sigmoid'))\n",
    "model.add(Dense(1, init='uniform'))\n",
    "model.add(Activation('sigmoid'))\n",
    "sgd = SGD(lr=0.06, decay=1e-6, momentum=0.9, nesterov=True)\n",
    "model.compile(loss='binary_crossentropy',optimizer=sgd)"
   ]
  },
  {
   "cell_type": "code",
   "execution_count": 61,
   "metadata": {
    "collapsed": false
   },
   "outputs": [
    {
     "name": "stdout",
     "output_type": "stream",
     "text": [
      "Epoch 1/30\n",
      "125973/125973 [==============================] - 60s - loss: 0.5432    \n",
      "Epoch 2/30\n",
      "125973/125973 [==============================] - 59s - loss: 0.1031    \n",
      "Epoch 3/30\n",
      "125973/125973 [==============================] - 58s - loss: 0.0887    \n",
      "Epoch 4/30\n",
      "125973/125973 [==============================] - 59s - loss: 0.0791    \n",
      "Epoch 5/30\n",
      "125973/125973 [==============================] - 59s - loss: 0.0647    \n",
      "Epoch 6/30\n",
      "125973/125973 [==============================] - 60s - loss: 0.0519    \n",
      "Epoch 7/30\n",
      "125973/125973 [==============================] - 60s - loss: 0.0447    \n",
      "Epoch 8/30\n",
      "125973/125973 [==============================] - 63s - loss: 0.0400    \n",
      "Epoch 9/30\n",
      "125973/125973 [==============================] - 59s - loss: 0.0372    \n",
      "Epoch 10/30\n",
      "125973/125973 [==============================] - 62s - loss: 0.0344    \n",
      "Epoch 11/30\n",
      "125973/125973 [==============================] - 60s - loss: 0.0320    \n",
      "Epoch 12/30\n",
      "125973/125973 [==============================] - 60s - loss: 0.0296    \n",
      "Epoch 13/30\n",
      "125973/125973 [==============================] - 60s - loss: 0.0288    \n",
      "Epoch 14/30\n",
      "125973/125973 [==============================] - 61s - loss: 0.0278    \n",
      "Epoch 15/30\n",
      "125973/125973 [==============================] - 59s - loss: 0.0266    \n",
      "Epoch 16/30\n",
      "125973/125973 [==============================] - 60s - loss: 0.0260    \n",
      "Epoch 17/30\n",
      "125973/125973 [==============================] - 61s - loss: 0.0245    \n",
      "Epoch 18/30\n",
      "125973/125973 [==============================] - 60s - loss: 0.0243    \n",
      "Epoch 19/30\n",
      "125973/125973 [==============================] - 62s - loss: 0.0237    \n",
      "Epoch 20/30\n",
      "125973/125973 [==============================] - 60s - loss: 0.0229    \n",
      "Epoch 21/30\n",
      "125973/125973 [==============================] - 58s - loss: 0.0223    \n",
      "Epoch 22/30\n",
      "125973/125973 [==============================] - 59s - loss: 0.0222    \n",
      "Epoch 23/30\n",
      "125973/125973 [==============================] - 65s - loss: 0.0213    \n",
      "Epoch 24/30\n",
      "125973/125973 [==============================] - 64s - loss: 0.0210    \n",
      "Epoch 25/30\n",
      "125973/125973 [==============================] - 69s - loss: 0.0208    \n",
      "Epoch 26/30\n",
      "125973/125973 [==============================] - 65s - loss: 0.0199    \n",
      "Epoch 27/30\n",
      "125973/125973 [==============================] - 60s - loss: 0.0195    \n",
      "Epoch 28/30\n",
      "125973/125973 [==============================] - 59s - loss: 0.0192    \n",
      "Epoch 29/30\n",
      "125973/125973 [==============================] - 59s - loss: 0.0190    \n",
      "Epoch 30/30\n",
      "125973/125973 [==============================] - 62s - loss: 0.0187    \n"
     ]
    },
    {
     "data": {
      "text/plain": [
       "<keras.callbacks.History at 0x7fccf18aea58>"
      ]
     },
     "execution_count": 61,
     "metadata": {},
     "output_type": "execute_result"
    }
   ],
   "source": [
    "model.fit(train_x, train_y,nb_epoch=30,batch_size=200)"
   ]
  },
  {
   "cell_type": "code",
   "execution_count": 63,
   "metadata": {
    "collapsed": false
   },
   "outputs": [
    {
     "name": "stdout",
     "output_type": "stream",
     "text": [
      "22544/22544 [==============================] - 4s     \n",
      "0.790809084457\n",
      "[[8852 3981]\n",
      " [ 735 8976]]\n"
     ]
    }
   ],
   "source": [
    "p = model.predict_classes(test_x)\n",
    "print(accuracy_score(test_y, p))\n",
    "print(confusion_matrix(test_y, p))"
   ]
  },
  {
   "cell_type": "code",
   "execution_count": 67,
   "metadata": {
    "collapsed": false
   },
   "outputs": [],
   "source": [
    "#saving model\n",
    "import json\n",
    "with open('out/model.txt', 'w') as outfile:\n",
    "    json.dump(model.to_json(), outfile)"
   ]
  },
  {
   "cell_type": "code",
   "execution_count": null,
   "metadata": {
    "collapsed": true
   },
   "outputs": [],
   "source": []
  }
 ],
 "metadata": {
  "kernelspec": {
   "display_name": "Python 3",
   "language": "python",
   "name": "python3"
  },
  "language_info": {
   "codemirror_mode": {
    "name": "ipython",
    "version": 3
   },
   "file_extension": ".py",
   "mimetype": "text/x-python",
   "name": "python",
   "nbconvert_exporter": "python",
   "pygments_lexer": "ipython3",
   "version": "3.4.3+"
  }
 },
 "nbformat": 4,
 "nbformat_minor": 0
}
