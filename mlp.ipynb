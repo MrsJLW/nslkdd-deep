{
 "cells": [
  {
   "cell_type": "code",
   "execution_count": 21,
   "metadata": {
    "collapsed": false
   },
   "outputs": [],
   "source": [
    "import tensorflow as tf\n",
    "import numpy as np\n",
    "import data as d\n",
    "from sklearn.metrics import precision_score"
   ]
  },
  {
   "cell_type": "code",
   "execution_count": 12,
   "metadata": {
    "collapsed": false
   },
   "outputs": [],
   "source": [
    "data = new_input1 = np.load('new_input.npz')['train']"
   ]
  },
  {
   "cell_type": "code",
   "execution_count": 57,
   "metadata": {
    "collapsed": true
   },
   "outputs": [],
   "source": [
    "def precision(predictions, labels):\n",
    "    p = [np.argmax(x) for x in predictions]\n",
    "    labs = [np.argmax(x) for x in labels]\n",
    "    return 100 * precision_score(labs, p, average='macro')"
   ]
  },
  {
   "cell_type": "code",
   "execution_count": 63,
   "metadata": {
    "collapsed": false
   },
   "outputs": [],
   "source": [
    "graph = tf.Graph()\n",
    "with graph.as_default():\n",
    "    learning_rate = 0.001\n",
    "    batch_size = 500\n",
    "    display_step = 1\n",
    "    bacthes_per_epoch=3\n",
    "    # Network Parameters\n",
    "    training_epochs = 1\n",
    "    n_input = 2000\n",
    "    n_hidden_1 = 100\n",
    "    n_hidden_2 = 100\n",
    "    n_hidden_3 = 100\n",
    "    n_classes = 5\n",
    "    x = tf.placeholder(tf.float32, [None, n_input])\n",
    "    y = tf.placeholder(tf.float32, [None, n_classes])\n",
    "#     tf_valid_dataset = tf.constant(valid_dataset)\n",
    "    dropout_rate = tf.placeholder(tf.float32)\n",
    "    \n",
    "    def multilayer_perceptron(X, weights, biases):\n",
    "        layer_1 = tf.nn.softmax(\n",
    "            tf.add(\n",
    "                tf.matmul(tf.nn.dropout(X, dropout_rate), weights['h1']),\n",
    "                biases['b1'])\n",
    "            )\n",
    "        layer_2 = tf.nn.softmax(\n",
    "            tf.add(\n",
    "                tf.matmul(tf.nn.dropout(layer_1, dropout_rate), weights['h2']),\n",
    "                biases['b2'])\n",
    "            )\n",
    "        layer_3 = tf.nn.softmax(\n",
    "            tf.add(\n",
    "                tf.matmul(tf.nn.dropout(layer_2, dropout_rate), weights['h3']),\n",
    "                biases['b3'])\n",
    "            )\n",
    "        return tf.add(\n",
    "            tf.matmul(tf.nn.dropout(layer_3, dropout_rate), weights['out']),\n",
    "            biases['out']\n",
    "            )\n",
    "    weights = {\n",
    "        'h1': tf.Variable(tf.random_normal([n_input, n_hidden_1])),\n",
    "        'h2': tf.Variable(tf.random_normal([n_hidden_1, n_hidden_2])),\n",
    "        'h3': tf.Variable(tf.truncated_normal([n_hidden_2, n_hidden_3])),\n",
    "        'out': tf.Variable(tf.random_normal([n_hidden_3, n_classes]))\n",
    "    }\n",
    "    biases = {\n",
    "        'b1': tf.Variable(tf.random_normal([n_hidden_1])),\n",
    "        'b2': tf.Variable(tf.random_normal([n_hidden_2])),\n",
    "        'b3': tf.Variable(tf.truncated_normal([n_hidden_3])),\n",
    "        'out': tf.Variable(tf.random_normal([n_classes]))\n",
    "    }\n",
    "\n",
    "    # Construct model\n",
    "    pred = multilayer_perceptron(x, weights, biases)\n",
    "\n",
    "    # Define loss and optimizer\n",
    "    cost = tf.reduce_mean(tf.nn.softmax_cross_entropy_with_logits(pred, y))\n",
    "    optimizer = tf.train.AdamOptimizer(\n",
    "        learning_rate=learning_rate).minimize(cost)\n",
    "\n",
    "    init = tf.initialize_all_variables()\n",
    "    prediction = tf.nn.softmax(pred)\n",
    "#     valid_prediction = tf.nn.softmax(multilayer_perceptron(tf_valid_dataset))"
   ]
  },
  {
   "cell_type": "code",
   "execution_count": 65,
   "metadata": {
    "collapsed": false
   },
   "outputs": [
    {
     "name": "stdout",
     "output_type": "stream",
     "text": [
      "(200, 2000)\n",
      "Minibatch loss at step 0 : 2.43038\n",
      "Minibatch precision at step 0 : 4.0\n",
      "(200, 2000)\n",
      "Minibatch loss at step 1 : 2.41816\n",
      "Minibatch precision at step 1 : 4.0\n",
      "(200, 2000)\n",
      "Minibatch loss at step 2 : 2.42819\n",
      "Minibatch precision at step 2 : 4.0\n",
      "Epoch: 0001\n",
      "Accuracy: 0.33082\n"
     ]
    },
    {
     "name": "stderr",
     "output_type": "stream",
     "text": [
      "/usr/local/lib/python3.4/dist-packages/sklearn/metrics/classification.py:1074: UndefinedMetricWarning: Precision is ill-defined and being set to 0.0 in labels with no predicted samples.\n",
      "  'precision', 'predicted', average, warn_for)\n"
     ]
    }
   ],
   "source": [
    "with tf.Session(graph=graph) as sess:\n",
    "    tf.initialize_all_variables().run()\n",
    "    sess.run(init)\n",
    "    saver = tf.train.Saver()\n",
    "    for epoch in range(training_epochs):\n",
    "        for i in range(bacthes_per_epoch):\n",
    "            batch_xs, batch_ys = d.train_batch_data(data, 40)\n",
    "            train_feed_dict = {\n",
    "                x: batch_xs,\n",
    "                y: batch_ys,\n",
    "                dropout_rate: 0.7\n",
    "            }\n",
    "\n",
    "            if i % 1 == 0:\n",
    "                test_feed_dict = {\n",
    "                    x: batch_xs,\n",
    "                    y: batch_ys,\n",
    "                    dropout_rate: 1.0\n",
    "                }\n",
    "                _, c = sess.run(\n",
    "                    [optimizer, cost], feed_dict=train_feed_dict\n",
    "                )\n",
    "                print(\n",
    "                    \"Minibatch loss at step\", i, \":\", c, end='\\n',\n",
    "                    flush=True\n",
    "                )\n",
    "                batch_precision = precision(\n",
    "                    prediction.eval(feed_dict=test_feed_dict),\n",
    "                    batch_ys\n",
    "                )\n",
    "                print(\n",
    "                    \"Minibatch precision at step\", i, \":\",\n",
    "                    batch_precision,\n",
    "                    end='\\n',\n",
    "                    flush=True\n",
    "                )\n",
    "#                 validation_precision = precision(\n",
    "#                     valid_prediction.eval(feed_dict=test_feed_dict),\n",
    "#                     valid_labels\n",
    "#                 )\n",
    "#                 print(\n",
    "#                     \"Validation precission at step\", step, \":\",\n",
    "#                     validation_precision,\n",
    "#                     end='\\n',\n",
    "#                     flush=True\n",
    "#                 )\n",
    "            else:\n",
    "                sess.run([optimizer], feed_dict=train_feed_dict)\n",
    "\n",
    "        # Display logs per epoch step\n",
    "        if epoch % display_step == 0:\n",
    "            print(\"Epoch:\", '%04d' % (epoch + 1))\n",
    "            \n",
    "    #Test model on test dataset\n",
    "    correct_prediction = tf.equal(tf.argmax(prediction, 1), tf.argmax(y, 1))\n",
    "    a, b = d.testdata() # fetching test data\n",
    "    accuracy = tf.reduce_mean(tf.cast(correct_prediction, \"float\"))\n",
    "    print(\"Accuracy:\", accuracy.eval({x: a, y: b, dropout_rate:1.0}))"
   ]
  },
  {
   "cell_type": "code",
   "execution_count": null,
   "metadata": {
    "collapsed": true
   },
   "outputs": [],
   "source": []
  }
 ],
 "metadata": {
  "kernelspec": {
   "display_name": "Python 3",
   "language": "python",
   "name": "python3"
  },
  "language_info": {
   "codemirror_mode": {
    "name": "ipython",
    "version": 3
   },
   "file_extension": ".py",
   "mimetype": "text/x-python",
   "name": "python",
   "nbconvert_exporter": "python",
   "pygments_lexer": "ipython3",
   "version": "3.4.3+"
  }
 },
 "nbformat": 4,
 "nbformat_minor": 0
}
