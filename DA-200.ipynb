{
 "cells": [
  {
   "cell_type": "code",
   "execution_count": 1,
   "metadata": {
    "collapsed": false
   },
   "outputs": [],
   "source": [
    "import tensorflow as tf\n",
    "import numpy as np\n",
    "from sklearn.preprocessing import LabelBinarizer\n",
    "from sklearn.metrics import mean_squared_error, precision_score\n",
    "from sklearn.linear_model import LogisticRegression\n",
    "from sklearn.cross_validation import cross_val_score\n",
    "from sklearn.preprocessing import StandardScaler\n",
    "from sklearn.metrics import accuracy_score\n",
    "from sklearn.metrics import confusion_matrix"
   ]
  },
  {
   "cell_type": "code",
   "execution_count": 65,
   "metadata": {
    "collapsed": false
   },
   "outputs": [],
   "source": [
    "train_dataset = np.genfromtxt('resources/train.csv', dtype=np.float32, delimiter=',')\n",
    "train_targets = train_dataset[:,-1]\n",
    "train_targets = np.array([1 if x == 2 else 0 for x in train_targets])\n",
    "test_dataset = np.genfromtxt('resources/test.csv', dtype=np.float32, delimiter=',')\n",
    "test_targets = test_dataset[:,-1]\n",
    "test_targets = np.array([1 if x == 2 else 0 for x in test_targets])\n",
    "combined_dataset=np.concatenate((train_dataset[:,:-1], test_dataset[:,:-1]))"
   ]
  },
  {
   "cell_type": "code",
   "execution_count": 66,
   "metadata": {
    "collapsed": false
   },
   "outputs": [
    {
     "name": "stdout",
     "output_type": "stream",
     "text": [
      "122\n"
     ]
    }
   ],
   "source": [
    "numeric_indices = []\n",
    "for i in range(combined_dataset.shape[1]):\n",
    "    n_unique = len(np.unique(combined_dataset[:, i]))\n",
    "    numeric_indices.append(n_unique > 2)\n",
    "print (len(numeric_indices))\n",
    "numeric_indices = np.array(numeric_indices, dtype=np.bool)"
   ]
  },
  {
   "cell_type": "code",
   "execution_count": 67,
   "metadata": {
    "collapsed": false
   },
   "outputs": [],
   "source": [
    "combined_dataset[:, numeric_indices] = StandardScaler().fit_transform(\n",
    "                                        combined_dataset[:, numeric_indices]\n",
    "                                        )"
   ]
  },
  {
   "cell_type": "code",
   "execution_count": 74,
   "metadata": {
    "collapsed": false
   },
   "outputs": [],
   "source": [
    "batch_size = 1500\n",
    "num_feature = 122\n",
    "num_labels = 2\n",
    "graph = tf.Graph()\n",
    "with graph.as_default():\n",
    "\n",
    "    input_data = tf.placeholder(tf.float32, shape=(None, num_feature))\n",
    "    clean_data = tf.placeholder(tf.float32, shape=(None, num_feature))\n",
    "    target = tf.placeholder(tf.float32, shape=(None, 2))\n",
    "    n_hidden_1 = 200\n",
    "#     n_hidden_2 = 100\n",
    "#     n_hidden_3 = 500\n",
    "    n_input = num_feature\n",
    "\n",
    "    wh1 = tf.Variable(tf.truncated_normal([n_input, n_hidden_1], dtype=tf.float32))\n",
    "#     wh2 = tf.Variable(tf.truncated_normal([n_hidden_1, n_hidden_2], dtype=tf.float32))\n",
    "#     wh3 = tf.Variable(tf.truncated_normal([n_hidden_2, n_hidden_3], dtype=tf.float32))\n",
    "#     wo = tf.Variable(tf.zeros([n_hidden_1, n_input], dtype=tf.float32))\n",
    "#     wo.initialized_value = tf.transpose(wh1)\n",
    "    b1 = tf.Variable(tf.truncated_normal([n_hidden_1], dtype=tf.float32))\n",
    "#     b2 = tf.Variable(tf.truncated_normal([n_hidden_2], dtype=tf.float32))\n",
    "#     b3 = tf.Variable(tf.truncated_normal([n_hidden_3], dtype=tf.float32))\n",
    "    bo = tf.Variable(tf.truncated_normal([n_input], dtype=tf.float32))\n",
    "    layer_1 = tf.add(tf.matmul(input_data, wh1), b1)\n",
    "    def compute_logit():\n",
    "#         layer_2 = tf.nn.relu(tf.add(tf.matmul(layer_1, wh2), b2))\n",
    "#         layer_3 = tf.nn.sigmoid(tf.add(tf.matmul(layer_2, wh3), b3))\n",
    "        return tf.matmul(layer_1, tf.transpose(wh1)) + bo \n",
    "\n",
    "    \n",
    "    logits = compute_logit()\n",
    "    difference = tf.sub(clean_data, logits) \n",
    "    loss = tf.sqrt(tf.reduce_mean(tf.square(difference)))# +  0.0001 * (tf.nn.l2_loss(wh1) + tf.nn.l2_loss(wo))\n",
    "#     loss = tf.reduce_mean(tf.nn.softmax_cross_entropy_with_logits(logits,tf_train_dataset))\n",
    "    optimizer = tf.train.AdamOptimizer(0.001).minimize(loss)\n",
    "    train_prediction = compute_logit()\n",
    "    \n",
    "    \n",
    "    layer_1_f = tf.nn.sigmoid(tf.add(tf.matmul(clean_data, wh1), b1))\n",
    "    wy = tf.Variable(tf.truncated_normal([n_hidden_1, num_labels], dtype=tf.float32))\n",
    "    by = tf.Variable(tf.truncated_normal([num_labels], dtype=tf.float32))\n",
    "    y_ = tf.matmul(layer_1_f, wy) + by\n",
    "    a_ = tf.reduce_mean(tf.cast(tf.equal(tf.argmax(target,1), tf.argmax(y_,1)), tf.float32))    \n",
    "    loss_ = tf.reduce_mean(tf.nn.softmax_cross_entropy_with_logits(y_, target))\n",
    "    optimize_ = tf.train.AdamOptimizer(0.0001).minimize(loss_)    "
   ]
  },
  {
   "cell_type": "code",
   "execution_count": null,
   "metadata": {
    "collapsed": false
   },
   "outputs": [
    {
     "name": "stdout",
     "output_type": "stream",
     "text": [
      "Initialized\n",
      "('Minibatch loss at step', 0, ':', 222.77254)\n",
      "('Minibatch loss at step', 500, ':', 89.292938)\n",
      "('Minibatch loss at step', 1000, ':', 39.540432)\n",
      "('Minibatch loss at step', 1500, ':', 16.709871)\n",
      "('Minibatch loss at step', 2000, ':', 26.412645)\n",
      "('Minibatch loss at step', 2500, ':', 3.530025)\n",
      "('Minibatch loss at step', 3000, ':', 1.5838422)"
     ]
    }
   ],
   "source": [
    "num_steps = 7000\n",
    "preds = []\n",
    "randomized_dataset = combined_dataset.copy()\n",
    "#     np.random.shuffle(randomized_dataset)\n",
    "new_input=[]\n",
    "with tf.Session(graph=graph) as session:\n",
    "    tf.initialize_all_variables().run()\n",
    "    print (\"Initialized\")\n",
    "    for step in range(num_steps):\n",
    "        offset = (step * batch_size) % (randomized_dataset.shape[0] - batch_size)\n",
    "        batch_data = randomized_dataset[offset:(offset + batch_size), :]\n",
    "        noisy_batch_data = batch_data.copy()\n",
    "        for i, point in enumerate(noisy_batch_data):\n",
    "            noisy_batch_data[i, :] = point + np.random.normal(0, 1, noisy_batch_data.shape[1])\n",
    "        feed_dict = {input_data: noisy_batch_data, clean_data: batch_data}\n",
    "        _, l, predictions = session.run(\n",
    "          [optimizer, loss, train_prediction], feed_dict=feed_dict)\n",
    "        if (step % 500 == 0):\n",
    "            print(\"Minibatch loss at step\", step, \":\", l)\n",
    "#             print \"SKLEARN loss\", np.sqrt(mean_squared_error(predictions, batch_data))\n",
    "    new_input=layer_1.eval(feed_dict = {input_data :combined_dataset})\n",
    "    test_targets_1hot = np.array([(x == np.arange(2)).astype(np.float32) for x in test_targets])\n",
    "#     print(test_targets_1hot[:5])\n",
    "    for step in range(370):\n",
    "        c = np.random.choice(train_targets.shape[0], 2000, replace=False)\n",
    "        batch_data = train_dataset[:,:-1][c]\n",
    "        batch_targets = train_targets[c]\n",
    "        batch_targets=np.array([(x == np.arange(2)).astype(np.float32) for x in batch_targets])\n",
    "        feed_dict = {clean_data:batch_data, target:batch_targets}\n",
    "        l, _ = session.run([loss_, optimize_], feed_dict=feed_dict)\n",
    "        if (step % 10 == 0):\n",
    "            print(\"Minibatch logloss at step\", step, \":\", l)\n",
    "    new_input = layer_1_f.eval(feed_dict={clean_data:combined_dataset})\n",
    "    print(session.run(a_, feed_dict={clean_data:combined_dataset[len(train_targets):],target:test_targets_1hot}))"
   ]
  },
  {
   "cell_type": "code",
   "execution_count": 36,
   "metadata": {
    "collapsed": false
   },
   "outputs": [
    {
     "name": "stdout",
     "output_type": "stream",
     "text": [
      "(125973, 123)\n",
      "((125973, 201), (22544, 201))\n"
     ]
    }
   ],
   "source": [
    "#saving new train & test data \n",
    "from collections import Counter\n",
    "print(train_dataset.shape)\n",
    "new_train_data=new_input[:train_dataset.shape[0]]\n",
    "new_train_data=np.c_[new_train_data,train_targets]\n",
    "new_test_data=new_input[train_dataset.shape[0]:]\n",
    "new_test_data=np.c_[new_test_data, test_targets]\n",
    "print(new_train_data.shape, new_test_data.shape)\n",
    "# np.savez('out/new_input.npz',train=new_train_data, test=new_test_data)"
   ]
  },
  {
   "cell_type": "code",
   "execution_count": 37,
   "metadata": {
    "collapsed": true
   },
   "outputs": [],
   "source": [
    "model = LogisticRegression(C=1,class_weight='balanced',n_jobs=-1)"
   ]
  },
  {
   "cell_type": "code",
   "execution_count": 37,
   "metadata": {
    "collapsed": false
   },
   "outputs": [
    {
     "name": "stdout",
     "output_type": "stream",
     "text": [
      "0.731867870076\n"
     ]
    }
   ],
   "source": [
    "print (cross_val_score(model, new_train_data[:, :-1], train_targets, cv=3, scoring='precision_macro').mean())"
   ]
  },
  {
   "cell_type": "code",
   "execution_count": 45,
   "metadata": {
    "collapsed": true
   },
   "outputs": [],
   "source": [
    "new_train_data = np.load('out/new_input.npz')['train']\n",
    "new_test_data = np.load('out/new_input.npz')['test']"
   ]
  },
  {
   "cell_type": "code",
   "execution_count": 38,
   "metadata": {
    "collapsed": false
   },
   "outputs": [
    {
     "data": {
      "text/plain": [
       "LogisticRegression(C=1, class_weight='balanced', dual=False,\n",
       "          fit_intercept=True, intercept_scaling=1, max_iter=100,\n",
       "          multi_class='ovr', n_jobs=-1, penalty='l2', random_state=None,\n",
       "          solver='liblinear', tol=0.0001, verbose=0, warm_start=False)"
      ]
     },
     "execution_count": 38,
     "metadata": {},
     "output_type": "execute_result"
    }
   ],
   "source": [
    "model.fit(new_train_data[:, :-1], train_targets)"
   ]
  },
  {
   "cell_type": "code",
   "execution_count": 39,
   "metadata": {
    "collapsed": true
   },
   "outputs": [],
   "source": [
    "preds = model.predict(new_test_data[:, :-1])\n",
    "# np.savez('out/preds.npz',preds=preds)"
   ]
  },
  {
   "cell_type": "code",
   "execution_count": 40,
   "metadata": {
    "collapsed": false
   },
   "outputs": [
    {
     "name": "stdout",
     "output_type": "stream",
     "text": [
      "0.740684882896\n"
     ]
    }
   ],
   "source": [
    "print(accuracy_score(preds, test_targets))"
   ]
  },
  {
   "cell_type": "code",
   "execution_count": 41,
   "metadata": {
    "collapsed": false
   },
   "outputs": [
    {
     "name": "stdout",
     "output_type": "stream",
     "text": [
      "[[7736 5097]\n",
      " [ 749 8962]]\n"
     ]
    }
   ],
   "source": [
    "print(confusion_matrix(test_targets, preds))"
   ]
  },
  {
   "cell_type": "code",
   "execution_count": null,
   "metadata": {
    "collapsed": true
   },
   "outputs": [],
   "source": []
  }
 ],
 "metadata": {
  "kernelspec": {
   "display_name": "Python 2",
   "language": "python",
   "name": "python2"
  },
  "language_info": {
   "codemirror_mode": {
    "name": "ipython",
    "version": 2
   },
   "file_extension": ".py",
   "mimetype": "text/x-python",
   "name": "python",
   "nbconvert_exporter": "python",
   "pygments_lexer": "ipython2",
   "version": "2.7.11"
  }
 },
 "nbformat": 4,
 "nbformat_minor": 0
}
