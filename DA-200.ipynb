{
 "cells": [
  {
   "cell_type": "code",
   "execution_count": 1,
   "metadata": {
    "collapsed": false
   },
   "outputs": [],
   "source": [
    "import tensorflow as tf\n",
    "import numpy as np\n",
    "from sklearn.preprocessing import LabelBinarizer\n",
    "from sklearn.metrics import mean_squared_error, precision_score\n",
    "from sklearn.linear_model import LogisticRegression\n",
    "from sklearn.cross_validation import cross_val_score\n",
    "from sklearn.preprocessing import StandardScaler\n",
    "from sklearn.metrics import accuracy_score\n",
    "from sklearn.metrics import confusion_matrix"
   ]
  },
  {
   "cell_type": "code",
   "execution_count": 2,
   "metadata": {
    "collapsed": false
   },
   "outputs": [],
   "source": [
    "train_dataset = np.genfromtxt('resources/train.csv', dtype=np.float32, delimiter=',')\n",
    "train_targets = train_dataset[:,-1]\n",
    "train_targets = np.array([1 if x == 2 else 0 for x in train_targets])\n",
    "test_dataset = np.genfromtxt('resources/test.csv', dtype=np.float32, delimiter=',')\n",
    "test_targets = test_dataset[:,-1]\n",
    "test_targets = np.array([1 if x == 2 else 0 for x in test_targets])\n",
    "combined_dataset=np.concatenate((train_dataset[:,:-1], test_dataset[:,:-1]))"
   ]
  },
  {
   "cell_type": "code",
   "execution_count": 3,
   "metadata": {
    "collapsed": false
   },
   "outputs": [
    {
     "data": {
      "text/plain": [
       "array([58630, 67343])"
      ]
     },
     "execution_count": 3,
     "metadata": {},
     "output_type": "execute_result"
    }
   ],
   "source": [
    "np.bincount(train_targets)"
   ]
  },
  {
   "cell_type": "code",
   "execution_count": 4,
   "metadata": {
    "collapsed": false
   },
   "outputs": [
    {
     "name": "stdout",
     "output_type": "stream",
     "text": [
      "122\n"
     ]
    }
   ],
   "source": [
    "numeric_indices = []\n",
    "for i in range(combined_dataset.shape[1]):\n",
    "    n_unique = len(np.unique(combined_dataset[:, i]))\n",
    "    numeric_indices.append(n_unique > 2)\n",
    "print (len(numeric_indices))\n",
    "numeric_indices = np.array(numeric_indices, dtype=np.bool)"
   ]
  },
  {
   "cell_type": "code",
   "execution_count": 5,
   "metadata": {
    "collapsed": false
   },
   "outputs": [],
   "source": [
    "combined_dataset[:, numeric_indices] = StandardScaler().fit_transform(\n",
    "                                        combined_dataset[:, numeric_indices]\n",
    "                                        )"
   ]
  },
  {
   "cell_type": "code",
   "execution_count": 69,
   "metadata": {
    "collapsed": false
   },
   "outputs": [],
   "source": [
    "batch_size = 1500\n",
    "num_feature = 122\n",
    "num_labels = 2\n",
    "graph = tf.Graph()\n",
    "with graph.as_default():\n",
    "    target = tf.placeholder(tf.float32, shape=(None, 2))\n",
    "    n_input = num_feature\n",
    "    n_hidden_1 = 200\n",
    "    n_hidden_2 = 100\n",
    "    n_hidden_3 = 50\n",
    "    \n",
    "    inputs = {'l1': tf.placeholder(tf.float32, shape=(None, num_feature)),\n",
    "              'l2': tf.placeholder(tf.float32, shape=(None, n_hidden_1)),\n",
    "              'l3': tf.placeholder(tf.float32, shape=(None, n_hidden_2))}\n",
    "    \n",
    "    targets = {'l1': tf.placeholder(tf.float32, shape=(None, num_feature)),\n",
    "               'l2': tf.placeholder(tf.float32, shape=(None, n_hidden_1)),\n",
    "               'l3': tf.placeholder(tf.float32, shape=(None, num_labels))}\n",
    "\n",
    "    weights = {'l1': tf.Variable(tf.truncated_normal([n_input, n_hidden_1], dtype=tf.float32)),\n",
    "               'l2': tf.Variable(tf.truncated_normal([n_hidden_1, n_hidden_2], dtype=tf.float32)),\n",
    "               'l3': tf.Variable(tf.truncated_normal([n_hidden_2, n_hidden_3], dtype=tf.float32))}\n",
    "\n",
    "    enc_biases = {'l1': tf.Variable(tf.truncated_normal([n_hidden_1], dtype=tf.float32)),\n",
    "                  'l2': tf.Variable(tf.truncated_normal([n_hidden_2], dtype=tf.float32)),\n",
    "                  'l3': tf.Variable(tf.truncated_normal([n_hidden_3], dtype=tf.float32))}\n",
    "    \n",
    "    dec_biases = {'l1': tf.Variable(tf.truncated_normal([n_input], dtype=tf.float32)),\n",
    "                  'l2': tf.Variable(tf.truncated_normal([n_hidden_1], dtype=tf.float32))}\n",
    "    \n",
    "    wo = tf.Variable(tf.truncated_normal([n_hidden_3, num_labels], dtype=tf.float32))\n",
    "    bo = tf.Variable(tf.truncated_normal([num_labels], dtype=tf.float32))\n",
    "    \n",
    "    def encode(layer_id):\n",
    "        return tf.add(tf.matmul(inputs[layer_id], weights[layer_id]), enc_biases[layer_id])\n",
    "    \n",
    "    def decode(layer, layer_id):\n",
    "        return tf.add(tf.matmul(layer, tf.transpose(weights[layer_id])), dec_biases[layer_id])\n",
    "    \n",
    "    def get_loss(inp, out):\n",
    "        difference = tf.sub(inp, out) \n",
    "        return tf.sqrt(tf.reduce_mean(tf.square(difference)))   \n",
    "\n",
    "    def encoder_loss(layer_id):\n",
    "        enc = encode(layer_id)\n",
    "        dec = decode(enc, layer_id)\n",
    "        loss = get_loss(targets[layer_id], dec)\n",
    "        return loss\n",
    "    \n",
    "    def compute_logit(layer_id):\n",
    "        logits = tf.nn.tanh(encode(layer_id))\n",
    "        logits = tf.add(tf.matmul(logits, wo), bo)\n",
    "        return logits\n",
    "    \n",
    "    def logit_loss(logits, layer_id):\n",
    "        return tf.reduce_mean(tf.nn.softmax_cross_entropy_with_logits(logits, targets[layer_id]))\n",
    "    \n",
    "    def get_softmax(logits):\n",
    "        return tf.nn.softmax(logits)\n",
    "    \n",
    "    loss_l1 = encoder_loss('l1')\n",
    "    optimizer_l1 = tf.train.AdamOptimizer(0.001).minimize(loss_l1)\n",
    "    loss_l2 = encoder_loss('l2')\n",
    "    optimizer_l2 = tf.train.AdamOptimizer(0.001).minimize(loss_l2)\n",
    "    logits = compute_logit('l3')\n",
    "    loss_l3 = logit_loss(logits, 'l3')\n",
    "    optimizer_l3 = tf.train.AdamOptimizer(0.001).minimize(loss_l3)"
   ]
  },
  {
   "cell_type": "code",
   "execution_count": 70,
   "metadata": {
    "collapsed": false
   },
   "outputs": [
    {
     "name": "stdout",
     "output_type": "stream",
     "text": [
      "Initialized\n",
      "500 : 85.9166\n",
      "1000 : 36.9498\n",
      "1500 : 15.7648\n",
      "2000 : 6.88497\n",
      "2500 : 3.11645\n",
      "3000 : 1.48298\n",
      "3500 : 0.627058\n",
      "4000 : 0.381959\n",
      "4500 : 0.323412\n",
      "5000 : 0.300571\n",
      "5500 : 0.320765\n",
      "6000 : 0.309214\n",
      "6500 : 0.301205\n",
      "7000 : 0.315248\n",
      "7500 : 0.301004\n",
      "8000 : 0.33757\n",
      "8500 : 0.336385\n",
      "9000 : 0.299019\n",
      "9500 : 0.296193\n",
      "10000 : 0.316098\n"
     ]
    }
   ],
   "source": [
    "num_steps = 10000\n",
    "randomized_dataset = combined_dataset.copy()\n",
    "np.random.shuffle(randomized_dataset)\n",
    "with tf.Session(graph=graph) as session:\n",
    "    tf.initialize_all_variables().run()\n",
    "    print (\"Initialized\")\n",
    "    for step in range(1, num_steps + 1):\n",
    "        offset = (step * batch_size) % (randomized_dataset.shape[0] - batch_size)\n",
    "        batch_data = randomized_dataset[offset:(offset + batch_size), :]\n",
    "        noisy_batch_data = batch_data.copy()\n",
    "        for i, point in enumerate(noisy_batch_data):\n",
    "            noisy_batch_data[i, :] = point + np.random.normal(0, 1, noisy_batch_data.shape[1])\n",
    "        feed_dict = {inputs['l1']: noisy_batch_data, targets['l1']: batch_data}\n",
    "        _, l = session.run([optimizer_l1, loss_l1], feed_dict=feed_dict)\n",
    "        if step % 500 == 0:\n",
    "            print step, ':', l"
   ]
  },
  {
   "cell_type": "code",
   "execution_count": 71,
   "metadata": {
    "collapsed": false
   },
   "outputs": [
    {
     "name": "stdout",
     "output_type": "stream",
     "text": [
      "Initialized\n",
      "1000 : 100.616\n",
      "2000 : 39.0461\n",
      "3000 : 23.9815\n",
      "4000 : 15.5616\n",
      "5000 : 11.6594\n",
      "6000 : 9.45537\n",
      "7000 : 8.33887\n",
      "8000 : 7.54305\n",
      "9000 : 6.23905\n",
      "10000 : 5.16105\n",
      "11000 : 4.83644\n",
      "12000 : 4.52867\n",
      "13000 : 8.02212\n",
      "14000 : 5.08431\n",
      "15000 : 4.56395\n",
      "16000 : 4.66459\n",
      "17000 : 3.8691\n",
      "18000 : 4.63158\n",
      "19000 : 3.68647\n",
      "20000 : 3.8327\n",
      "21000 : 2.91987\n",
      "22000 : 4.47652\n",
      "23000 : 2.59041\n",
      "24000 : 2.88201\n",
      "25000 : 3.51531\n",
      "26000 : 4.05447\n",
      "27000 : 2.63748\n",
      "28000 : 3.0164\n",
      "29000 : 2.74419\n",
      "30000 : 2.50407\n",
      "31000 : 2.4288\n",
      "32000 : 2.99447\n",
      "33000 : 2.36293\n",
      "34000 : 2.39094\n",
      "35000 : 2.17911\n",
      "36000 : 3.39051\n",
      "37000 : 2.32618\n",
      "38000 : 9.0268\n",
      "39000 : 2.11285\n",
      "40000 : 1.96725\n",
      "41000 : 1.93506\n",
      "42000 : 1.91593\n",
      "43000 : 1.78285\n",
      "44000 : 2.05383\n",
      "45000 : 1.96982\n"
     ]
    }
   ],
   "source": [
    "num_steps = 45000\n",
    "preds = []\n",
    "randomized_dataset = combined_dataset.copy()\n",
    "np.random.shuffle(randomized_dataset)\n",
    "new_input=[]\n",
    "with tf.Session(graph=graph) as session:\n",
    "    tf.initialize_all_variables().run()\n",
    "    print (\"Initialized\")\n",
    "    encoder_op = encode('l1')\n",
    "    encoded_randomized_dataset = encoder_op.eval(feed_dict={inputs['l1']: randomized_dataset})\n",
    "    for step in range(1, num_steps + 1):\n",
    "        offset = (step * batch_size) % (randomized_dataset.shape[0] - batch_size)\n",
    "        batch_data = encoded_randomized_dataset[offset:(offset + batch_size), :]\n",
    "        noisy_batch_data = batch_data.copy()\n",
    "        for i, point in enumerate(noisy_batch_data):\n",
    "            noisy_batch_data[i, :] = point + np.random.normal(0, 1, noisy_batch_data.shape[1])\n",
    "        feed_dict = {inputs['l2']: batch_data, targets['l2']: noisy_batch_data}\n",
    "        _, l = session.run([optimizer_l2, loss_l2], feed_dict=feed_dict)\n",
    "        if step % 1000 == 0:\n",
    "            print step, ':', l"
   ]
  },
  {
   "cell_type": "code",
   "execution_count": 72,
   "metadata": {
    "collapsed": false
   },
   "outputs": [
    {
     "name": "stdout",
     "output_type": "stream",
     "text": [
      "Initialized\n",
      "100 : 1.71176\n",
      "200 : 0.545867\n",
      "300 : 0.374125\n",
      "400 : 0.327542\n",
      "500 : 0.251414\n",
      "600 : 0.17622\n",
      "700 : 0.177035\n",
      "800 : 0.152508\n",
      "900 : 0.148748\n",
      "1000 : 0.117589\n",
      "1100 : 0.138904\n",
      "1200 : 0.138447\n",
      "1300 : 0.122112\n",
      "1400 : 0.0881525\n",
      "1500 : 0.111471\n",
      "1600 : 0.110557\n",
      "1700 : 0.0881293\n",
      "1800 : 0.072809\n",
      "1900 : 0.100673\n",
      "2000 : 0.0706263\n",
      "2100 : 0.076882\n",
      "2200 : 0.0668703\n",
      "2300 : 0.0767106\n",
      "2400 : 0.0808679\n",
      "2500 : 0.0678024\n",
      "2600 : 0.0923288\n",
      "2700 : 0.0740183\n",
      "2800 : 0.0437195\n",
      "2900 : 0.0540447\n",
      "3000 : 0.0530275\n",
      "3100 : 0.0626308\n",
      "3200 : 0.0439253\n",
      "3300 : 0.042121\n",
      "3400 : 0.0552381\n",
      "3500 : 0.0410883\n",
      "3600 : 0.0367515\n",
      "3700 : 0.044155\n",
      "3800 : 0.0381541\n",
      "3900 : 0.0401123\n",
      "4000 : 0.0481869\n",
      "4100 : 0.0433682\n",
      "4200 : 0.0492217\n",
      "4300 : 0.0538658\n",
      "4400 : 0.0586776\n",
      "4500 : 0.0287999\n",
      "4600 : 0.0395907\n",
      "4700 : 0.0380539\n",
      "4800 : 0.0362041\n",
      "4900 : 0.0455984\n",
      "5000 : 0.0517075\n"
     ]
    }
   ],
   "source": [
    "num_steps = 5000\n",
    "preds = []\n",
    "new_input=[]\n",
    "with tf.Session(graph=graph) as session:\n",
    "    tf.initialize_all_variables().run()\n",
    "    print (\"Initialized\")\n",
    "    encoder_op = encode('l1')\n",
    "    encoded_dataset = encoder_op.eval(feed_dict={inputs['l1']: combined_dataset[:train_dataset.shape[0], :]})\n",
    "    encoder_op = encode('l2')\n",
    "    encoded_dataset = encoder_op.eval(feed_dict={inputs['l2']: encoded_dataset})\n",
    "    for step in range(1, num_steps + 1):\n",
    "        offset = (step * batch_size) % (encoded_dataset.shape[0] - batch_size)\n",
    "        batch_data = encoded_dataset[offset:(offset + batch_size), :]\n",
    "        batch_labels = list(train_targets[offset:(offset + batch_size)])\n",
    "        for i, label in enumerate(batch_labels):\n",
    "            batch_labels[i] = (label == np.arange(2)).astype(np.int32)\n",
    "        batch_labels = np.array(batch_labels, dtype=np.int32)\n",
    "        feed_dict = {inputs['l3']: batch_data, targets['l3']: batch_labels}\n",
    "        _, l = session.run([optimizer_l3, loss_l3], feed_dict=feed_dict)\n",
    "        if step % 100 == 0:\n",
    "            print step, ':', l"
   ]
  },
  {
   "cell_type": "code",
   "execution_count": 73,
   "metadata": {
    "collapsed": false
   },
   "outputs": [],
   "source": [
    "preds = []\n",
    "with tf.Session(graph=graph) as session:\n",
    "    tf.initialize_all_variables().run()\n",
    "    encoder_op = encode('l1')\n",
    "    encoded_dataset = encoder_op.eval(feed_dict={inputs['l1']: combined_dataset[train_dataset.shape[0]:, :]})\n",
    "    encoder_op = encode('l2')\n",
    "    encoded_dataset = encoder_op.eval(feed_dict={inputs['l2']: encoded_dataset})\n",
    "    logit_op = compute_logit('l3')\n",
    "    softmaxes = get_softmax(logit_op)\n",
    "    preds = softmaxes.eval(feed_dict={inputs['l3']: encoded_dataset})"
   ]
  },
  {
   "cell_type": "code",
   "execution_count": 74,
   "metadata": {
    "collapsed": false
   },
   "outputs": [],
   "source": [
    "def accuracy(predictions, labels):\n",
    "  return (100.0 * np.sum(np.argmax(predictions, 1) == labels)\n",
    "          / predictions.shape[0])"
   ]
  },
  {
   "cell_type": "code",
   "execution_count": 75,
   "metadata": {
    "collapsed": false
   },
   "outputs": [
    {
     "data": {
      "text/plain": [
       "34.905074520936836"
      ]
     },
     "execution_count": 75,
     "metadata": {},
     "output_type": "execute_result"
    }
   ],
   "source": [
    "accuracy(preds, test_targets)"
   ]
  },
  {
   "cell_type": "code",
   "execution_count": 79,
   "metadata": {
    "collapsed": false
   },
   "outputs": [
    {
     "name": "stdout",
     "output_type": "stream",
     "text": [
      "Initialized\n",
      "('Minibatch loss at step', 0, ':', 222.77254)\n",
      "('Minibatch loss at step', 500, ':', 89.292938)\n",
      "('Minibatch loss at step', 1000, ':', 39.540432)\n",
      "('Minibatch loss at step', 1500, ':', 16.709871)\n",
      "('Minibatch loss at step', 2000, ':', 26.412645)\n",
      "('Minibatch loss at step', 2500, ':', 3.530025)\n",
      "('Minibatch loss at step', 3000, ':', 1.5838422)\n",
      "('Minibatch loss at step', 3500, ':', 0.6859898)\n",
      "('Minibatch loss at step', 4000, ':', 0.40181309)\n",
      "('Minibatch loss at step', 4500, ':', 0.38369343)\n",
      "('Minibatch loss at step', 5000, ':', 0.31740069)\n",
      "('Minibatch loss at step', 5500, ':', 0.33525366)\n",
      "('Minibatch loss at step', 6000, ':', 0.36136743)\n",
      "('Minibatch loss at step', 6500, ':', 0.29976884)\n",
      "('Minibatch logloss at step', 0, ':', 2.0832458)\n",
      "('Minibatch logloss at step', 10, ':', 0.43901727)\n",
      "('Minibatch logloss at step', 20, ':', 0.27650648)\n",
      "('Minibatch logloss at step', 30, ':', 0.19391036)\n",
      "('Minibatch logloss at step', 40, ':', 0.22965193)\n",
      "('Minibatch logloss at step', 50, ':', 0.12823243)\n",
      "('Minibatch logloss at step', 60, ':', 0.11483277)\n",
      "('Minibatch logloss at step', 70, ':', 0.11111413)\n",
      "('Minibatch logloss at step', 80, ':', 0.10408607)\n",
      "('Minibatch logloss at step', 90, ':', 0.10029998)\n",
      "('Minibatch logloss at step', 100, ':', 0.086478457)\n",
      "('Minibatch logloss at step', 110, ':', 0.077428266)\n",
      "('Minibatch logloss at step', 120, ':', 0.071148328)\n",
      "('Minibatch logloss at step', 130, ':', 0.09387514)\n",
      "('Minibatch logloss at step', 140, ':', 0.066410065)\n",
      "('Minibatch logloss at step', 150, ':', 0.067981936)\n",
      "('Minibatch logloss at step', 160, ':', 0.062553383)\n",
      "('Minibatch logloss at step', 170, ':', 0.056775603)\n",
      "('Minibatch logloss at step', 180, ':', 0.061193909)\n",
      "('Minibatch logloss at step', 190, ':', 0.071570233)\n",
      "('Minibatch logloss at step', 200, ':', 0.048843376)\n",
      "('Minibatch logloss at step', 210, ':', 0.066191941)\n",
      "('Minibatch logloss at step', 220, ':', 0.047093712)\n",
      "('Minibatch logloss at step', 230, ':', 0.053074576)\n",
      "('Minibatch logloss at step', 240, ':', 0.054819558)\n",
      "('Minibatch logloss at step', 250, ':', 0.045948289)\n",
      "('Minibatch logloss at step', 260, ':', 0.048943795)\n",
      "('Minibatch logloss at step', 270, ':', 0.063280374)\n",
      "('Minibatch logloss at step', 280, ':', 0.05275777)\n",
      "('Minibatch logloss at step', 290, ':', 0.050369803)\n",
      "('Minibatch logloss at step', 300, ':', 0.044953842)\n",
      "('Minibatch logloss at step', 310, ':', 0.044143319)\n",
      "('Minibatch logloss at step', 320, ':', 0.040870674)\n",
      "('Minibatch logloss at step', 330, ':', 0.041033104)\n",
      "('Minibatch logloss at step', 340, ':', 0.044404116)\n",
      "('Minibatch logloss at step', 350, ':', 0.046988081)\n",
      "('Minibatch logloss at step', 360, ':', 0.041888922)\n",
      "0.58601\n"
     ]
    }
   ],
   "source": [
    "num_steps = 7000\n",
    "preds = []\n",
    "randomized_dataset = combined_dataset.copy()\n",
    "#     np.random.shuffle(randomized_dataset)\n",
    "new_input=[]\n",
    "with tf.Session(graph=graph) as session:\n",
    "    tf.initialize_all_variables().run()\n",
    "    print (\"Initialized\")\n",
    "    for step in range(num_steps):\n",
    "        offset = (step * batch_size) % (randomized_dataset.shape[0] - batch_size)\n",
    "        batch_data = randomized_dataset[offset:(offset + batch_size), :]\n",
    "        noisy_batch_data = batch_data.copy()\n",
    "        for i, point in enumerate(noisy_batch_data):\n",
    "            noisy_batch_data[i, :] = point + np.random.normal(0, 1, noisy_batch_data.shape[1])\n",
    "        feed_dict = {input_data: noisy_batch_data, clean_data: batch_data}\n",
    "        _, l, predictions = session.run(\n",
    "          [optimizer, loss, train_prediction], feed_dict=feed_dict)\n",
    "        if (step % 500 == 0):\n",
    "            print(\"Minibatch loss at step\", step, \":\", l)\n",
    "#             print \"SKLEARN loss\", np.sqrt(mean_squared_error(predictions, batch_data))\n",
    "    new_input=layer_1.eval(feed_dict = {input_data :combined_dataset})\n",
    "    test_targets_1hot = np.array([(x == np.arange(2)).astype(np.float32) for x in test_targets])\n",
    "#     print(test_targets_1hot[:5])\n",
    "    for step in range(370):\n",
    "        c = np.random.choice(train_targets.shape[0], 2000, replace=False)\n",
    "        batch_data = train_dataset[:,:-1][c]\n",
    "        batch_targets = train_targets[c]\n",
    "        batch_targets=np.array([(x == np.arange(2)).astype(np.float32) for x in batch_targets])\n",
    "        feed_dict = {clean_data:batch_data, target:batch_targets}\n",
    "        l, _ = session.run([loss_, optimize_], feed_dict=feed_dict)\n",
    "        if (step % 10 == 0):\n",
    "            print(\"Minibatch logloss at step\", step, \":\", l)\n",
    "    new_input = layer_1_f.eval(feed_dict={clean_data:combined_dataset})\n",
    "    print(session.run(a_, feed_dict={clean_data:combined_dataset[len(train_targets):],target:test_targets_1hot}))"
   ]
  },
  {
   "cell_type": "code",
   "execution_count": 36,
   "metadata": {
    "collapsed": false
   },
   "outputs": [
    {
     "name": "stdout",
     "output_type": "stream",
     "text": [
      "(125973, 123)\n",
      "((125973, 201), (22544, 201))\n"
     ]
    }
   ],
   "source": [
    "#saving new train & test data \n",
    "from collections import Counter\n",
    "print(train_dataset.shape)\n",
    "new_train_data=new_input[:train_dataset.shape[0]]\n",
    "new_train_data=np.c_[new_train_data,train_targets]\n",
    "new_test_data=new_input[train_dataset.shape[0]:]\n",
    "new_test_data=np.c_[new_test_data, test_targets]\n",
    "print(new_train_data.shape, new_test_data.shape)\n",
    "# np.savez('out/new_input.npz',train=new_train_data, test=new_test_data)"
   ]
  },
  {
   "cell_type": "code",
   "execution_count": 37,
   "metadata": {
    "collapsed": true
   },
   "outputs": [],
   "source": [
    "model = LogisticRegression(C=1,class_weight='balanced',n_jobs=-1)"
   ]
  },
  {
   "cell_type": "code",
   "execution_count": 37,
   "metadata": {
    "collapsed": false
   },
   "outputs": [
    {
     "name": "stdout",
     "output_type": "stream",
     "text": [
      "0.731867870076\n"
     ]
    }
   ],
   "source": [
    "print (cross_val_score(model, new_train_data[:, :-1], train_targets, cv=3, scoring='precision_macro').mean())"
   ]
  },
  {
   "cell_type": "code",
   "execution_count": 45,
   "metadata": {
    "collapsed": true
   },
   "outputs": [],
   "source": [
    "new_train_data = np.load('out/new_input.npz')['train']\n",
    "new_test_data = np.load('out/new_input.npz')['test']"
   ]
  },
  {
   "cell_type": "code",
   "execution_count": 38,
   "metadata": {
    "collapsed": false
   },
   "outputs": [
    {
     "data": {
      "text/plain": [
       "LogisticRegression(C=1, class_weight='balanced', dual=False,\n",
       "          fit_intercept=True, intercept_scaling=1, max_iter=100,\n",
       "          multi_class='ovr', n_jobs=-1, penalty='l2', random_state=None,\n",
       "          solver='liblinear', tol=0.0001, verbose=0, warm_start=False)"
      ]
     },
     "execution_count": 38,
     "metadata": {},
     "output_type": "execute_result"
    }
   ],
   "source": [
    "model.fit(new_train_data[:, :-1], train_targets)"
   ]
  },
  {
   "cell_type": "code",
   "execution_count": 39,
   "metadata": {
    "collapsed": true
   },
   "outputs": [],
   "source": [
    "preds = model.predict(new_test_data[:, :-1])\n",
    "# np.savez('out/preds.npz',preds=preds)"
   ]
  },
  {
   "cell_type": "code",
   "execution_count": 40,
   "metadata": {
    "collapsed": false
   },
   "outputs": [
    {
     "name": "stdout",
     "output_type": "stream",
     "text": [
      "0.740684882896\n"
     ]
    }
   ],
   "source": [
    "print(accuracy_score(preds, test_targets))"
   ]
  },
  {
   "cell_type": "code",
   "execution_count": 41,
   "metadata": {
    "collapsed": false
   },
   "outputs": [
    {
     "name": "stdout",
     "output_type": "stream",
     "text": [
      "[[7736 5097]\n",
      " [ 749 8962]]\n"
     ]
    }
   ],
   "source": [
    "print(confusion_matrix(test_targets, preds))"
   ]
  },
  {
   "cell_type": "code",
   "execution_count": null,
   "metadata": {
    "collapsed": true
   },
   "outputs": [],
   "source": []
  }
 ],
 "metadata": {
  "kernelspec": {
   "display_name": "Python 2",
   "language": "python",
   "name": "python2"
  },
  "language_info": {
   "codemirror_mode": {
    "name": "ipython",
    "version": 2
   },
   "file_extension": ".py",
   "mimetype": "text/x-python",
   "name": "python",
   "nbconvert_exporter": "python",
   "pygments_lexer": "ipython2",
   "version": "2.7.11"
  }
 },
 "nbformat": 4,
 "nbformat_minor": 0
}
