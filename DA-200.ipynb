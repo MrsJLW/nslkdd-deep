{
 "cells": [
  {
   "cell_type": "code",
   "execution_count": 1,
   "metadata": {
    "collapsed": false
   },
   "outputs": [],
   "source": [
    "import tensorflow as tf\n",
    "import numpy as np\n",
    "from sklearn.preprocessing import LabelBinarizer\n",
    "from sklearn.metrics import mean_squared_error, precision_score\n",
    "from sklearn.linear_model import LogisticRegression\n",
    "from sklearn.cross_validation import cross_val_score\n",
    "from sklearn.preprocessing import StandardScaler\n",
    "from sklearn.metrics import accuracy_score\n",
    "from sklearn.metrics import confusion_matrix"
   ]
  },
  {
   "cell_type": "code",
   "execution_count": 2,
   "metadata": {
    "collapsed": false
   },
   "outputs": [],
   "source": [
    "train_dataset = np.genfromtxt('resources/train.csv', dtype=np.float32, delimiter=',')\n",
    "train_targets = train_dataset[:,-1]\n",
    "train_targets = np.array([1 if x == 2 else 0 for x in train_targets])\n",
    "test_dataset = np.genfromtxt('resources/test.csv', dtype=np.float32, delimiter=',')\n",
    "test_targets = test_dataset[:,-1]\n",
    "test_targets = np.array([1 if x == 2 else 0 for x in test_targets])\n",
    "combined_dataset=np.concatenate((train_dataset[:,:-1], test_dataset[:,:-1]))"
   ]
  },
  {
   "cell_type": "code",
   "execution_count": 3,
   "metadata": {
    "collapsed": false
   },
   "outputs": [
    {
     "data": {
      "text/plain": [
       "array([58630, 67343])"
      ]
     },
     "execution_count": 3,
     "metadata": {},
     "output_type": "execute_result"
    }
   ],
   "source": [
    "np.bincount(train_targets)"
   ]
  },
  {
   "cell_type": "code",
   "execution_count": 4,
   "metadata": {
    "collapsed": false
   },
   "outputs": [
    {
     "name": "stdout",
     "output_type": "stream",
     "text": [
      "122\n"
     ]
    }
   ],
   "source": [
    "numeric_indices = []\n",
    "for i in range(combined_dataset.shape[1]):\n",
    "    n_unique = len(np.unique(combined_dataset[:, i]))\n",
    "    numeric_indices.append(n_unique > 2)\n",
    "print (len(numeric_indices))\n",
    "numeric_indices = np.array(numeric_indices, dtype=np.bool)"
   ]
  },
  {
   "cell_type": "code",
   "execution_count": 5,
   "metadata": {
    "collapsed": false
   },
   "outputs": [],
   "source": [
    "combined_dataset[:, numeric_indices] = StandardScaler().fit_transform(\n",
    "                                        combined_dataset[:, numeric_indices]\n",
    "                                        )"
   ]
  },
  {
   "cell_type": "code",
   "execution_count": 6,
   "metadata": {
    "collapsed": true
   },
   "outputs": [],
   "source": [
    "def accuracy(predictions, labels):\n",
    "  return (100.0 * np.sum(np.argmax(predictions, 1) == labels)\n",
    "          / predictions.shape[0])"
   ]
  },
  {
   "cell_type": "code",
   "execution_count": 7,
   "metadata": {
    "collapsed": false
   },
   "outputs": [],
   "source": [
    "batch_size = 1500\n",
    "num_feature = 122\n",
    "num_labels = 2\n",
    "graph = tf.Graph()\n",
    "with graph.as_default():\n",
    "    target = tf.placeholder(tf.float32, shape=(None, 2))\n",
    "    n_input = num_feature\n",
    "    n_hidden_1 = 200\n",
    "    n_hidden_2 = 50\n",
    "    n_hidden_3 = 2\n",
    "    \n",
    "    inputs = {'l1': tf.placeholder(tf.float32, shape=(None, num_feature)),\n",
    "              'l2': tf.placeholder(tf.float32, shape=(None, n_hidden_1)),\n",
    "              'l3': tf.placeholder(tf.float32, shape=(None, n_hidden_2))}\n",
    "    \n",
    "    targets = {'l1': tf.placeholder(tf.float32, shape=(None, num_feature)),\n",
    "               'l2': tf.placeholder(tf.float32, shape=(None, n_hidden_1)),\n",
    "               'l3': tf.placeholder(tf.float32, shape=(None, num_labels))}\n",
    "\n",
    "    weights = {'l1': tf.Variable(tf.truncated_normal([n_input, n_hidden_1], dtype=tf.float32)),\n",
    "               'l2': tf.Variable(tf.truncated_normal([n_hidden_1, n_hidden_2], dtype=tf.float32)),\n",
    "               'l3': tf.Variable(tf.truncated_normal([n_hidden_2, num_labels], dtype=tf.float32))}\n",
    "\n",
    "    enc_biases = {'l1': tf.Variable(tf.truncated_normal([n_hidden_1], dtype=tf.float32)),\n",
    "                  'l2': tf.Variable(tf.truncated_normal([n_hidden_2], dtype=tf.float32)),\n",
    "                  'l3': tf.Variable(tf.truncated_normal([num_labels], dtype=tf.float32))}\n",
    "    \n",
    "    dec_biases = {'l1': tf.Variable(tf.truncated_normal([n_input], dtype=tf.float32)),\n",
    "                  'l2': tf.Variable(tf.truncated_normal([n_hidden_1], dtype=tf.float32))}\n",
    "    \n",
    "    def encode(layer_id):\n",
    "        return tf.nn.relu(tf.add(tf.matmul(inputs[layer_id], weights[layer_id]), enc_biases[layer_id]))\n",
    "    \n",
    "    def decode(layer, layer_id):\n",
    "        return tf.add(tf.matmul(layer, tf.transpose(weights[layer_id])), dec_biases[layer_id])\n",
    "    \n",
    "    def get_loss(inp, out):\n",
    "        difference = tf.sub(inp, out) \n",
    "        return tf.sqrt(tf.reduce_mean(tf.square(difference)))   \n",
    "\n",
    "    def encoder_loss(layer_id):\n",
    "        enc = encode(layer_id)\n",
    "        dec = decode(enc, layer_id)\n",
    "        loss = get_loss(targets[layer_id], dec)\n",
    "        return loss\n",
    "    \n",
    "    def logit_loss(logits, layer_id):\n",
    "        return tf.reduce_mean(tf.nn.sigmoid_cross_entropy_with_logits(logits, targets[layer_id]))\n",
    "    \n",
    "    def full_compute():\n",
    "        logits = inputs['l1']\n",
    "        for layer_id in ['l1', 'l2', 'l3']:\n",
    "            logits = tf.nn.relu(tf.add(tf.matmul(logits, weights[layer_id]), enc_biases[layer_id]))\n",
    "        return logits\n",
    "        \n",
    "    def get_sigmoid(logits):\n",
    "        return tf.nn.sigmoid(logits)\n",
    "    \n",
    "    loss_l1 = encoder_loss('l1')\n",
    "    optimizer_l1 = tf.train.AdamOptimizer(0.001).minimize(loss_l1)\n",
    "    loss_l2 = encoder_loss('l2')\n",
    "    optimizer_l2 = tf.train.AdamOptimizer(0.001).minimize(loss_l2)\n",
    "    logits = full_compute()\n",
    "    loss_l3 = logit_loss(logits, 'l3')\n",
    "    optimizer_l3 = tf.train.AdamOptimizer(0.001).minimize(loss_l3 + 0.001*tf.nn.l2_loss(weights['l3']))"
   ]
  },
  {
   "cell_type": "code",
   "execution_count": 10,
   "metadata": {
    "collapsed": false
   },
   "outputs": [
    {
     "name": "stdout",
     "output_type": "stream",
     "text": [
      "Training First Layer\n",
      "50 : 113.205\n",
      "100 : 101.877\n",
      "150 : 92.0403\n",
      "200 : 85.2228\n",
      "Training Second Layer\n",
      "50 : 110.068\n",
      "100 : 83.3341\n",
      "150 : 57.1189\n",
      "200 : 43.5317\n",
      "Training Thrid Layer\n",
      "100 : 0.463987\n",
      "200 : 0.415287\n",
      "300 : 0.3935\n",
      "400 : 0.393251\n"
     ]
    }
   ],
   "source": [
    "randomized_dataset = combined_dataset.copy()\n",
    "# np.random.shuffle(randomized_dataset)\n",
    "preds = []\n",
    "with tf.Session(graph=graph) as session:\n",
    "    tf.initialize_all_variables().run()\n",
    "    print (\"Training First Layer\")\n",
    "    num_steps = 200\n",
    "    for step in range(1, num_steps + 1):\n",
    "        offset = (step * batch_size) % (randomized_dataset.shape[0] - batch_size)\n",
    "        batch_data = randomized_dataset[offset:(offset + batch_size), :]\n",
    "        noisy_batch_data = batch_data.copy()\n",
    "        for i, point in enumerate(noisy_batch_data):\n",
    "            noisy_batch_data[i, :] = point + np.random.normal(0, 1, noisy_batch_data.shape[1])\n",
    "        feed_dict = {inputs['l1']: noisy_batch_data, targets['l1']: batch_data}\n",
    "        _, l = session.run([optimizer_l1, loss_l1], feed_dict=feed_dict)\n",
    "        if step % 50 == 0:\n",
    "            print step, ':', l\n",
    "    encoder_op = encode('l1')\n",
    "    encoded_randomized_dataset = encoder_op.eval(feed_dict={inputs['l1']: randomized_dataset})\n",
    "    num_steps = 200\n",
    "    print (\"Training Second Layer\")\n",
    "    for step in range(1, num_steps + 1):\n",
    "        offset = (step * batch_size) % (randomized_dataset.shape[0] - batch_size)\n",
    "        batch_data = encoded_randomized_dataset[offset:(offset + batch_size), :]\n",
    "        noisy_batch_data = batch_data.copy()\n",
    "        for i, point in enumerate(noisy_batch_data):\n",
    "            noisy_batch_data[i, :] = point + np.random.normal(0, 1, noisy_batch_data.shape[1])\n",
    "        feed_dict = {inputs['l2']: noisy_batch_data, targets['l2']: batch_data}\n",
    "        _, l = session.run([optimizer_l2, loss_l2], feed_dict=feed_dict)\n",
    "        if step % 50 == 0:\n",
    "            print step, ':', l\n",
    "    encoded_dataset = combined_dataset[:train_dataset.shape[0], :]\n",
    "    num_steps = 400\n",
    "    print (\"Training Thrid Layer\")\n",
    "    for step in range(1, num_steps + 1):\n",
    "        offset = (step * batch_size) % (encoded_dataset.shape[0] - batch_size)\n",
    "        batch_data = encoded_dataset[offset:(offset + batch_size), :]\n",
    "        batch_labels = list(train_targets[offset:(offset + batch_size)])\n",
    "        for i, label in enumerate(batch_labels):\n",
    "            batch_labels[i] = (label == np.arange(2)).astype(np.int32)\n",
    "        batch_labels = np.array(batch_labels, dtype=np.int32)\n",
    "        feed_dict = {inputs['l1']: batch_data, targets['l3']: batch_labels}\n",
    "        _, l = session.run([optimizer_l3, loss_l3], feed_dict=feed_dict)\n",
    "        if step % 100 == 0:\n",
    "            print step, ':', l\n",
    "    logit_op = full_compute()\n",
    "    softmaxes = get_sigmoid(logit_op)\n",
    "    preds = softmaxes.eval(feed_dict={inputs['l1']: combined_dataset[train_dataset.shape[0]:, :]})"
   ]
  },
  {
   "cell_type": "code",
   "execution_count": 11,
   "metadata": {
    "collapsed": false
   },
   "outputs": [
    {
     "data": {
      "text/plain": [
       "87.28708303761533"
      ]
     },
     "execution_count": 11,
     "metadata": {},
     "output_type": "execute_result"
    }
   ],
   "source": [
    "accuracy(preds, test_targets)"
   ]
  },
  {
   "cell_type": "code",
   "execution_count": 12,
   "metadata": {
    "collapsed": false
   },
   "outputs": [
    {
     "name": "stdout",
     "output_type": "stream",
     "text": [
      "[[10927  1906]\n",
      " [  960  8751]]\n"
     ]
    }
   ],
   "source": [
    "preds = np.array([np.argmax(x) for x in preds])\n",
    "print confusion_matrix(test_targets, preds)"
   ]
  },
  {
   "cell_type": "code",
   "execution_count": 66,
   "metadata": {
    "collapsed": false
   },
   "outputs": [],
   "source": [
    "import csv\n",
    "with open('predictions2.csv', 'w') as f:\n",
    "    writer = csv.writer(f)\n",
    "    writer.writerows(preds.reshape(-1, 1))"
   ]
  }
 ],
 "metadata": {
  "kernelspec": {
   "display_name": "Python 2",
   "language": "python",
   "name": "python2"
  },
  "language_info": {
   "codemirror_mode": {
    "name": "ipython",
    "version": 2
   },
   "file_extension": ".py",
   "mimetype": "text/x-python",
   "name": "python",
   "nbconvert_exporter": "python",
   "pygments_lexer": "ipython2",
   "version": "2.7.11"
  }
 },
 "nbformat": 4,
 "nbformat_minor": 0
}
